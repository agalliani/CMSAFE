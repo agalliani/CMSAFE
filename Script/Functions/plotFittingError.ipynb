{
 "cells": [
  {
   "cell_type": "markdown",
   "metadata": {},
   "source": [
    "## Funzione che si occupa di plottare gli scan di soglia\n",
    "In input riceve la struttura dati che contiene le liste di dati (generate dalla funzione parseTxtCalib) e il titolo da dare al plot. Vengono plottati due grafici: uno per RD53A e uno per RD53B. I grafici sono ricavati mediante interpolazione dei punti ricavati dal file generato dal SW per calibrare il trimming DAC."
   ]
  },
  {
   "cell_type": "code",
   "execution_count": null,
   "metadata": {},
   "outputs": [],
   "source": [
    "import matplotlib.patches as mpatches\n",
    "import numpy as np\n",
    "import pandas as pd\n",
    "import matplotlib.pyplot as plt\n",
    "from scipy.interpolate import UnivariateSpline"
   ]
  },
  {
   "cell_type": "code",
   "execution_count": 6,
   "metadata": {},
   "outputs": [],
   "source": [
    "def plotFittingError(dataframe, title):\n",
    "\n",
    "    B = dataframe.loc[dataframe['Tipo']== 'B']\n",
    "    u = B['HitDots_y'].values.tolist()\n",
    "    \n",
    "    fig, axs = plt.subplots(1, 2, figsize= (15,4))\n",
    "    for i in range(0, len(u)):\n",
    "        s = UnivariateSpline(range(0,32),u[i] , k=1, s=0)\n",
    "        xs= np.linspace(-1, 32, 100)\n",
    "        ys = s(xs)\n",
    "        axs[1].plot(xs,ys)\n",
    "\n",
    "        \n",
    "    A = dataframe.loc[dataframe['Tipo']== 'A']\n",
    "    t = A['HitDots_y'].values.tolist()\n",
    "    \n",
    "    for i in range(0, len(t)):\n",
    "        s = UnivariateSpline(range(0,16),t[i] , k=1, s=0)\n",
    "        xs= np.linspace(-1, 16, 100)\n",
    "        ys = s(xs)\n",
    "        axs[0].plot(xs,ys)\n",
    "\n",
    "    axs[0].set_xlabel(\"DAC counts\")\n",
    "    axs[0].set_ylabel(\"Hit efficiency\")\n",
    "    A_patch = mpatches.Patch(color='blue', label='TYPE A')\n",
    "    axs[0].legend(handles=[A_patch])\n",
    "    axs[0].set_ylim(-0.1, 1.1)\n",
    "    \n",
    "    axs[1].set_xlabel(\"DAC counts\")\n",
    "    axs[1].set_ylabel(\"Hit efficiency\")\n",
    "    B_patch = mpatches.Patch(color='red', label='TYPE B')\n",
    "    axs[1].legend(handles=[B_patch])\n",
    "    axs[1].set_ylim(-0.1, 1.1)\n",
    "\n",
    "\n",
    "    fig.suptitle(title +' Fitting error functions' ,fontsize=16)\n",
    "    "
   ]
  }
 ],
 "metadata": {
  "kernelspec": {
   "display_name": "Python 3",
   "language": "python",
   "name": "python3"
  },
  "language_info": {
   "codemirror_mode": {
    "name": "ipython",
    "version": 3
   },
   "file_extension": ".py",
   "mimetype": "text/x-python",
   "name": "python",
   "nbconvert_exporter": "python",
   "pygments_lexer": "ipython3",
   "version": "3.8.5"
  }
 },
 "nbformat": 4,
 "nbformat_minor": 4
}
