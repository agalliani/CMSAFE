{
 "cells": [
  {
   "cell_type": "markdown",
   "metadata": {},
   "source": [
    "## Funzione per fare il parsing data una lista di file txt"
   ]
  },
  {
   "cell_type": "markdown",
   "metadata": {},
   "source": [
    "###### Importo la funzione per il parsing del file i testo generato dal SW di calibrazione della soglia\n",
    "Riceve in input il nome del file da elaborare e ritorna un oggetto di tipo Dataframe contenente i dati estrapolati dal file di testo."
   ]
  },
  {
   "cell_type": "code",
   "execution_count": null,
   "metadata": {},
   "outputs": [],
   "source": [
    "%run ./Functions/parseTxtCalib.ipynb"
   ]
  },
  {
   "cell_type": "code",
   "execution_count": null,
   "metadata": {},
   "outputs": [],
   "source": [
    "import os\n",
    "def parseCalibs(paths):\n",
    "    data=[]\n",
    "    for i in range(0, len(paths)):\n",
    "        data.append([parseTxtCalib(paths[i]), os.path.basename(paths[i])[0:-4]])\n",
    "        \n",
    "    print(str(i+1)+\" dataframe crated!\")\n",
    "    return data"
   ]
  }
 ],
 "metadata": {
  "kernelspec": {
   "display_name": "Python 3",
   "language": "python",
   "name": "python3"
  },
  "language_info": {
   "codemirror_mode": {
    "name": "ipython",
    "version": 3
   },
   "file_extension": ".py",
   "mimetype": "text/x-python",
   "name": "python",
   "nbconvert_exporter": "python",
   "pygments_lexer": "ipython3",
   "version": "3.8.5"
  }
 },
 "nbformat": 4,
 "nbformat_minor": 4
}
