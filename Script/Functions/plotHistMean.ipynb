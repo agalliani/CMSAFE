{
 "cells": [
  {
   "cell_type": "markdown",
   "metadata": {},
   "source": [
    "### Funzione che si occupa di plottare i dati\n",
    "In input riceve la struttura dati che contiene le liste di dati (generate dalla funzione parseTxtCalib) e il titolo da dare al plot.\n",
    "\n",
    "Vengono plottati due istogrammi delle medie: uno per RD53A e uno per RD53B. Le medie sono il dato calcolato dal SW per calibrare il trimming DAC.\n",
    "\n",
    "Gli istogrammi sono normalizzati.\n"
   ]
  },
  {
   "cell_type": "code",
   "execution_count": null,
   "metadata": {},
   "outputs": [],
   "source": [
    "import numpy as np\n",
    "import pandas as pd\n",
    "import matplotlib.pyplot as plt\n",
    "import scipy as sp\n",
    "from scipy import stats"
   ]
  },
  {
   "cell_type": "code",
   "execution_count": 3,
   "metadata": {},
   "outputs": [],
   "source": [
    "def plotHistMean(df, title):   \n",
    "    #filtro i dati per tipo e seleziono solo la colonna relativa alla media\n",
    "    \n",
    "    #Distribuzione di medie delle soglie per il DAC del RD53A\n",
    "    A = df.loc[df['Tipo']== 'A']\n",
    "    A_data = A['Mean']\n",
    "\n",
    "    #Distribuzione di medie delle soglie per il DAC del RD53B\n",
    "    B = df.loc[df['Tipo']== 'B']\n",
    "    B_data = B['Mean']\n",
    "        \n",
    "    #calcolo media e deviazione standard delle due distribuzioni\n",
    "    A_mean = A_data.mean()\n",
    "    A_sigma = np.sqrt(A_data.var())\n",
    "    \n",
    "    B_mean = B_data.mean()\n",
    "    B_sigma = np.sqrt(B_data.var())\n",
    "    \n",
    "    #plotto anche le relative gaussiane generate da media e varianza calcolate sui dati\n",
    "    x_A = np.linspace(-1, 16, 100)\n",
    "    y_A = sp.stats.norm.pdf(x_A, A_mean, A_sigma)\n",
    "    \n",
    "    x_B = np.linspace(-1, 32, 100)\n",
    "    y_B = sp.stats.norm.pdf(x_B, B_mean, B_sigma)\n",
    "        \n",
    "    fig, ax = plt.subplots(1, 2, sharey = 'row', figsize= (15,4))\n",
    "    \n",
    "    kws = dict(histtype= \"stepfilled\",alpha= 0.5, linewidth = 2)\n",
    "    \n",
    "    ax[0].hist(A_data, color=\"lightblue\", edgecolor = \"k\", **kws,  density = True)\n",
    "    ax[0].plot(x_A, y_A, '-r',color = 'blue')\n",
    "    ax[0].legend([(\"RD53A\\n$\\mu$~\" + str(int(A_mean)) + \" $\\sigma$~\"+ str(int(A_sigma)))])\n",
    "    ax[0].set_xlabel(\"Thresholds Bit\")\n",
    "    ax[0].set_ylabel(\"Normalized Frequency\")\n",
    "    \n",
    "    ax[1].hist(B_data, color=\"orange\", edgecolor = \"k\", **kws,  density = True)\n",
    "    ax[1].plot(x_B, y_B, '-r', color = 'coral')\n",
    "    ax[1].legend([\"RD53B\\n$\\mu$~\" + str(int(B_mean)) + \" $\\sigma$~\"+ str(int(B_sigma))])\n",
    "    ax[1].set_xlabel(\"Thresholds Bit\")\n",
    "    ax[1].set_ylabel(\"Normalized Frequency\")\n",
    "    \n",
    "   \n",
    "    fig.suptitle(\"Threshold distribution for  \"+ title, fontsize=16)\n",
    "    plt.savefig(title+'.png', bbox_inches='tight')\n"
   ]
  },
  {
   "cell_type": "code",
   "execution_count": null,
   "metadata": {},
   "outputs": [],
   "source": []
  }
 ],
 "metadata": {
  "kernelspec": {
   "display_name": "Python 3",
   "language": "python",
   "name": "python3"
  },
  "language_info": {
   "codemirror_mode": {
    "name": "ipython",
    "version": 3
   },
   "file_extension": ".py",
   "mimetype": "text/x-python",
   "name": "python",
   "nbconvert_exporter": "python",
   "pygments_lexer": "ipython3",
   "version": "3.8.5"
  }
 },
 "nbformat": 4,
 "nbformat_minor": 4
}
