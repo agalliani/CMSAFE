{
 "cells": [
  {
   "cell_type": "code",
   "execution_count": 1,
   "metadata": {},
   "outputs": [],
   "source": [
    "from IPython.display import clear_output, display\n",
    "from ipywidgets import Button\n",
    "from tkinter import Tk, filedialog"
   ]
  },
  {
   "cell_type": "code",
   "execution_count": 45,
   "metadata": {},
   "outputs": [],
   "source": [
    "def _selectFiles(b):\n",
    "    clear_output()                                         # Button is deleted after it is clicked.\n",
    "    root = Tk()\n",
    "    root.withdraw()                                        # Hide the main window.\n",
    "    root.call('wm', 'attributes', '.', '-topmost', True)   # Raise the root to the top of all windows.\n",
    "    b.files  = filedialog.askopenfilename(multiple=True)    # List of selected files will be set button's file attribute.\n",
    "    try:\n",
    "        \n",
    "        if(str(b.files) == \"\"):\n",
    "            raise\n",
    "        else:\n",
    "            print(\"Selected files:\")\n",
    "            print('\\n'.join([str(i) for i in b.files]))# Print the list of files selected.\n",
    "    except:\n",
    "        print(\"No file selected\")      \n"
   ]
  },
  {
   "cell_type": "code",
   "execution_count": 50,
   "metadata": {},
   "outputs": [],
   "source": [
    "def selectFiles():\n",
    "    fileselect = Button(description = \"File Select\")\n",
    "    fileselect.on_click(_selectFiles)\n",
    "    display(fileselect)\n",
    "    return fileselect"
   ]
  }
 ],
 "metadata": {
  "kernelspec": {
   "display_name": "Python 3",
   "language": "python",
   "name": "python3"
  },
  "language_info": {
   "codemirror_mode": {
    "name": "ipython",
    "version": 3
   },
   "file_extension": ".py",
   "mimetype": "text/x-python",
   "name": "python",
   "nbconvert_exporter": "python",
   "pygments_lexer": "ipython3",
   "version": "3.8.5"
  }
 },
 "nbformat": 4,
 "nbformat_minor": 4
}
