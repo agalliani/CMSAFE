{
 "cells": [
  {
   "cell_type": "markdown",
   "metadata": {},
   "source": [
    "# In questo script recupero informazioni relative alla dispersione di soglia dei FE RD53A e RD53B e ne elimino gli outliers\n",
    "\n",
    "Devo prendere i valori al 50% dello scan di soglia e calcolare la varianza della loro distribuzione. Infine, plottare l'andamento delle dispersioni di soglia delle misurazioni fatte in funzione della corrente $I_{LDAC}$, cercando di eliminare l'effetto di eventuali outliers."
   ]
  },
  {
   "cell_type": "code",
   "execution_count": 2,
   "metadata": {},
   "outputs": [],
   "source": [
    "import numpy as np\n",
    "import matplotlib.pyplot as plt"
   ]
  },
  {
   "cell_type": "code",
   "execution_count": 3,
   "metadata": {},
   "outputs": [],
   "source": [
    "%run ./Functions/selectFiles.ipynb #gestisce button e schermata di dialogo con il file system\n",
    "%run ./Functions/parseCalibs.ipynb #parsing dei file txt. input: path[]; output: dataframe[]"
   ]
  },
  {
   "cell_type": "code",
   "execution_count": 4,
   "metadata": {},
   "outputs": [],
   "source": [
    "def plotHist(dataframe, tipo): #plot istogramma distribuzione delle soglie filtrate per tipo di FE. Ritorna lista di soglie\n",
    "    C = dataframe[0][0]\n",
    "    D = C.loc[C['Tipo'] == tipo]\n",
    "    E = np.asarray(D['Thresholds'].values.tolist())\n",
    "    \n",
    "    fig, ax = plt.subplots(1, 1)\n",
    "    \n",
    "    kws = dict(histtype= \"stepfilled\",alpha= 0.5, linewidth = 2)\n",
    "    \n",
    "    ax.hist(E, color=\"lightblue\", edgecolor = \"k\", **kws,  density = False)\n",
    "    ax.legend([\"Dev ~ \" + str(round(np.std(E), 3))])\n",
    "    ax.set_xlabel(\"Thresholds\")\n",
    "    ax.set_ylabel(\"Frequency\")\n",
    "    \n",
    "    \n",
    "    plt.show()\n",
    "    return E"
   ]
  },
  {
   "cell_type": "code",
   "execution_count": 5,
   "metadata": {},
   "outputs": [],
   "source": [
    "def plotNoOutliers(array):\n",
    "    fig, ax = plt.subplots(1, 1)\n",
    "\n",
    "    kws = dict(histtype= \"stepfilled\",alpha= 0.5, linewidth = 2)\n",
    "    \n",
    "    ax.hist(array, color=\"green\", edgecolor = \"k\", **kws,  density = False)\n",
    "    ax.legend([\"Dev ~ \" + str(round(np.std(array), 3))])\n",
    "    ax.set_xlabel(\"Thresholds\")\n",
    "    ax.set_ylabel(\"Frequency\")\n",
    "    plt.show()"
   ]
  },
  {
   "cell_type": "code",
   "execution_count": 6,
   "metadata": {},
   "outputs": [],
   "source": [
    "#inizializzo vettori che userò per plottare i grafici. Ad ogni passo aggiungo in coda la dev std\n",
    "varianzeB_pulite = []\n",
    "varianzeB = []"
   ]
  },
  {
   "cell_type": "code",
   "execution_count": 7,
   "metadata": {},
   "outputs": [
    {
     "name": "stdout",
     "output_type": "stream",
     "text": [
      "Selected files:\n",
      "C:/Users/andre/Documents/CMSAFE/CMSAFE_calibs/calib_I_LDAC_8_0_soglia_1000_elettroni.txt\n"
     ]
    }
   ],
   "source": [
    "button = selectFiles() #è possibile selezionare più files"
   ]
  },
  {
   "cell_type": "markdown",
   "metadata": {},
   "source": [
    "## Dati per corrente $I_{LDAC} = 8 \\mu A$ "
   ]
  },
  {
   "cell_type": "code",
   "execution_count": 8,
   "metadata": {},
   "outputs": [
    {
     "name": "stdout",
     "output_type": "stream",
     "text": [
      "1 dataframe crated!\n"
     ]
    }
   ],
   "source": [
    "data8 = parseCalibs(button.files) #ad ogni file è associato un dataframe               "
   ]
  },
  {
   "cell_type": "markdown",
   "metadata": {},
   "source": [
    "###### Dati sporchi"
   ]
  },
  {
   "cell_type": "code",
   "execution_count": 9,
   "metadata": {},
   "outputs": [
    {
     "data": {
      "image/png": "[encoded data removed]",
      "text/plain": [
       "<Figure size 432x288 with 1 Axes>"
      ]
     },
     "metadata": {
      "needs_background": "light"
     },
     "output_type": "display_data"
    }
   ],
   "source": [
    "array8 = plotHist(data8, 'B')"
   ]
  },
  {
   "cell_type": "markdown",
   "metadata": {},
   "source": [
    "###### Rimuovo gli outliers lavorando sul coefficiente m\n",
    "Il dato viene considerato se:\n",
    "$ \\\\ x - \\overline{x} < m \\cdot \\lambda_{x} \\\\$\n",
    "con $\\lambda_{x}$ deviazione standard"
   ]
  },
  {
   "cell_type": "code",
   "execution_count": 16,
   "metadata": {},
   "outputs": [],
   "source": [
    "no_outliers_8 = array8[abs(array8 - np.mean(array8)) < 4*np.std(array8)] #Rimuovo gli outliers"
   ]
  },
  {
   "cell_type": "code",
   "execution_count": 17,
   "metadata": {},
   "outputs": [
    {
     "data": {
      "image/png": "[encoded data removed]",
      "text/plain": [
       "<Figure size 432x288 with 1 Axes>"
      ]
     },
     "metadata": {
      "needs_background": "light"
     },
     "output_type": "display_data"
    }
   ],
   "source": [
    "plotNoOutliers(no_outliers_8)"
   ]
  },
  {
   "cell_type": "code",
   "execution_count": 58,
   "metadata": {},
   "outputs": [],
   "source": [
    "varianzeB.append(np.std(array8))\n",
    "varianzeB_pulite.append(np.std(no_outliers_8))"
   ]
  },
  {
   "cell_type": "markdown",
   "metadata": {},
   "source": [
    "## Dati per corrente $I_{LDAC} = 10 \\mu A$ "
   ]
  },
  {
   "cell_type": "code",
   "execution_count": 20,
   "metadata": {},
   "outputs": [
    {
     "name": "stdout",
     "output_type": "stream",
     "text": [
      "Selected files:\n",
      "C:/Users/andre/Documents/CMSAFE/CMSAFE_calibs/calib_I_LDAC_10_0_soglia_1000_elettroni.txt\n"
     ]
    }
   ],
   "source": [
    "button10 = selectFiles() #è possibile selezionare più files"
   ]
  },
  {
   "cell_type": "code",
   "execution_count": 21,
   "metadata": {},
   "outputs": [
    {
     "name": "stdout",
     "output_type": "stream",
     "text": [
      "1 dataframe crated!\n"
     ]
    }
   ],
   "source": [
    "data10 = parseCalibs(button10.files) #ad ogni file è associato un dataframe               "
   ]
  },
  {
   "cell_type": "markdown",
   "metadata": {},
   "source": [
    "###### Dati sporchi"
   ]
  },
  {
   "cell_type": "code",
   "execution_count": 22,
   "metadata": {},
   "outputs": [
    {
     "data": {
      "image/png": "[encoded data removed]",
      "text/plain": [
       "<Figure size 432x288 with 1 Axes>"
      ]
     },
     "metadata": {
      "needs_background": "light"
     },
     "output_type": "display_data"
    }
   ],
   "source": [
    "array10 = plotHist(data10, 'B')"
   ]
  },
  {
   "cell_type": "markdown",
   "metadata": {},
   "source": [
    "###### Rimuovo gli outliers lavorando sul coefficiente m\n"
   ]
  },
  {
   "cell_type": "code",
   "execution_count": 26,
   "metadata": {},
   "outputs": [],
   "source": [
    "no_outliers_10 = array10[abs(array10 - np.mean(array10)) < 4*np.std(array10)]"
   ]
  },
  {
   "cell_type": "code",
   "execution_count": 27,
   "metadata": {},
   "outputs": [
    {
     "data": {
      "image/png": "[encoded data removed]",
      "text/plain": [
       "<Figure size 432x288 with 1 Axes>"
      ]
     },
     "metadata": {
      "needs_background": "light"
     },
     "output_type": "display_data"
    }
   ],
   "source": [
    "plotNoOutliers(no_outliers_10)"
   ]
  },
  {
   "cell_type": "code",
   "execution_count": 59,
   "metadata": {},
   "outputs": [],
   "source": [
    "varianzeB.append(np.std(array10))\n",
    "varianzeB_pulite.append(np.std(no_outliers_10))"
   ]
  },
  {
   "cell_type": "markdown",
   "metadata": {},
   "source": [
    "## Dati per corrente $I_{LDAC} = 12 \\mu A$ "
   ]
  },
  {
   "cell_type": "code",
   "execution_count": 29,
   "metadata": {},
   "outputs": [
    {
     "name": "stdout",
     "output_type": "stream",
     "text": [
      "Selected files:\n",
      "C:/Users/andre/Documents/CMSAFE/CMSAFE_calibs/calib_I_LDAC_12_0_soglia_1000_elettroni.txt\n"
     ]
    }
   ],
   "source": [
    "button12 = selectFiles() #è possibile selezionare più files"
   ]
  },
  {
   "cell_type": "code",
   "execution_count": 30,
   "metadata": {},
   "outputs": [
    {
     "name": "stdout",
     "output_type": "stream",
     "text": [
      "1 dataframe crated!\n"
     ]
    }
   ],
   "source": [
    "data12 = parseCalibs(button12.files) #ad ogni file è associato un dataframe               "
   ]
  },
  {
   "cell_type": "code",
   "execution_count": 31,
   "metadata": {
    "scrolled": true
   },
   "outputs": [
    {
     "data": {
      "image/png": "[encoded data removed]",
      "text/plain": [
       "<Figure size 432x288 with 1 Axes>"
      ]
     },
     "metadata": {
      "needs_background": "light"
     },
     "output_type": "display_data"
    }
   ],
   "source": [
    "array12 = plotHist(data12, 'B')"
   ]
  },
  {
   "cell_type": "code",
   "execution_count": 60,
   "metadata": {},
   "outputs": [],
   "source": [
    "varianzeB.append(np.std(array12))\n",
    "varianzeB_pulite.append(np.std(array12))"
   ]
  },
  {
   "cell_type": "markdown",
   "metadata": {},
   "source": [
    "## Dati per corrente $I_{LDAC} = 13 \\mu A$ "
   ]
  },
  {
   "cell_type": "code",
   "execution_count": 34,
   "metadata": {},
   "outputs": [
    {
     "name": "stdout",
     "output_type": "stream",
     "text": [
      "Selected files:\n",
      "C:/Users/andre/Documents/CMSAFE/CMSAFE_calibs/calib_I_LDAC_13_0_soglia_1000_elettroni.txt\n"
     ]
    }
   ],
   "source": [
    "button13 = selectFiles() #è possibile selezionare più files"
   ]
  },
  {
   "cell_type": "code",
   "execution_count": 35,
   "metadata": {},
   "outputs": [
    {
     "name": "stdout",
     "output_type": "stream",
     "text": [
      "1 dataframe crated!\n"
     ]
    }
   ],
   "source": [
    "data13 = parseCalibs(button13.files) #ad ogni file è associato un dataframe               "
   ]
  },
  {
   "cell_type": "markdown",
   "metadata": {},
   "source": [
    "###### Dati sporchi"
   ]
  },
  {
   "cell_type": "code",
   "execution_count": 36,
   "metadata": {},
   "outputs": [
    {
     "data": {
      "image/png": "[encoded data removed]",
      "text/plain": [
       "<Figure size 432x288 with 1 Axes>"
      ]
     },
     "metadata": {
      "needs_background": "light"
     },
     "output_type": "display_data"
    }
   ],
   "source": [
    "array13 = plotHist(data13, 'B')"
   ]
  },
  {
   "cell_type": "markdown",
   "metadata": {},
   "source": [
    "###### Rimuovo gli outliers lavorando sul coefficiente m\n"
   ]
  },
  {
   "cell_type": "code",
   "execution_count": 37,
   "metadata": {},
   "outputs": [
    {
     "data": {
      "image/png": "[encoded data removed]",
      "text/plain": [
       "<Figure size 432x288 with 1 Axes>"
      ]
     },
     "metadata": {
      "needs_background": "light"
     },
     "output_type": "display_data"
    }
   ],
   "source": [
    "no_outliers_13 = array13[abs(array13 - np.mean(array13)) < 2*np.std(array13)]\n",
    "plotNoOutliers(no_outliers_13)"
   ]
  },
  {
   "cell_type": "code",
   "execution_count": 61,
   "metadata": {},
   "outputs": [],
   "source": [
    "varianzeB.append(np.std(array13))\n",
    "varianzeB_pulite.append(np.std(no_outliers_13))"
   ]
  },
  {
   "cell_type": "markdown",
   "metadata": {},
   "source": [
    "### Dati per corrente $I_{LDAC} = 14 \\mu A$ "
   ]
  },
  {
   "cell_type": "code",
   "execution_count": 39,
   "metadata": {},
   "outputs": [
    {
     "name": "stdout",
     "output_type": "stream",
     "text": [
      "Selected files:\n",
      "C:/Users/andre/Documents/CMSAFE/CMSAFE_calibs/calib_I_LDAC_14_0_soglia_1000_elettroni.txt\n"
     ]
    }
   ],
   "source": [
    "button14 = selectFiles() #è possibile selezionare più files"
   ]
  },
  {
   "cell_type": "code",
   "execution_count": 40,
   "metadata": {},
   "outputs": [
    {
     "name": "stdout",
     "output_type": "stream",
     "text": [
      "1 dataframe crated!\n"
     ]
    }
   ],
   "source": [
    "data14 = parseCalibs(button14.files) #ad ogni file è associato un dataframe               "
   ]
  },
  {
   "cell_type": "code",
   "execution_count": 41,
   "metadata": {},
   "outputs": [
    {
     "data": {
      "image/png": "[encoded data removed]",
      "text/plain": [
       "<Figure size 432x288 with 1 Axes>"
      ]
     },
     "metadata": {
      "needs_background": "light"
     },
     "output_type": "display_data"
    }
   ],
   "source": [
    "array14 = plotHist(data14, 'B')"
   ]
  },
  {
   "cell_type": "code",
   "execution_count": 42,
   "metadata": {},
   "outputs": [
    {
     "data": {
      "image/png": "[encoded data removed]",
      "text/plain": [
       "<Figure size 432x288 with 1 Axes>"
      ]
     },
     "metadata": {
      "needs_background": "light"
     },
     "output_type": "display_data"
    }
   ],
   "source": [
    "array_x=array14\n",
    "no_outliers_14 = array_x[abs(array_x - np.mean(array_x)) < 2*np.std(array_x)]\n",
    "\n",
    "plotNoOutliers(no_outliers_14)"
   ]
  },
  {
   "cell_type": "code",
   "execution_count": 62,
   "metadata": {},
   "outputs": [],
   "source": [
    "varianzeB.append(np.std(array14))\n",
    "varianzeB_pulite.append(np.std(no_outliers_14))"
   ]
  },
  {
   "cell_type": "markdown",
   "metadata": {},
   "source": [
    "### Dati per corrente $I_{LDAC} = 16 \\mu A$ "
   ]
  },
  {
   "cell_type": "code",
   "execution_count": 43,
   "metadata": {},
   "outputs": [
    {
     "name": "stdout",
     "output_type": "stream",
     "text": [
      "Selected files:\n",
      "C:/Users/andre/Documents/CMSAFE/CMSAFE_calibs/calib_I_LDAC_16_0_soglia_1000_elettroni.txt\n"
     ]
    }
   ],
   "source": [
    "button16 = selectFiles() #è possibile selezionare più files"
   ]
  },
  {
   "cell_type": "code",
   "execution_count": 44,
   "metadata": {},
   "outputs": [
    {
     "name": "stdout",
     "output_type": "stream",
     "text": [
      "1 dataframe crated!\n"
     ]
    }
   ],
   "source": [
    "data16 = parseCalibs(button16.files) #ad ogni file è associato un dataframe               "
   ]
  },
  {
   "cell_type": "code",
   "execution_count": 45,
   "metadata": {},
   "outputs": [
    {
     "data": {
      "image/png": "[encoded data removed]",
      "text/plain": [
       "<Figure size 432x288 with 1 Axes>"
      ]
     },
     "metadata": {
      "needs_background": "light"
     },
     "output_type": "display_data"
    }
   ],
   "source": [
    "array16 = plotHist(data16, 'B')"
   ]
  },
  {
   "cell_type": "code",
   "execution_count": 47,
   "metadata": {},
   "outputs": [
    {
     "data": {
      "image/png": "[encoded data removed]",
      "text/plain": [
       "<Figure size 432x288 with 1 Axes>"
      ]
     },
     "metadata": {
      "needs_background": "light"
     },
     "output_type": "display_data"
    }
   ],
   "source": [
    "array_x=array16\n",
    "no_outliers_16 = array_x[abs(array_x - np.mean(array_x)) < 2*np.std(array_x)]\n",
    "plotNoOutliers(no_outliers_16)"
   ]
  },
  {
   "cell_type": "code",
   "execution_count": 63,
   "metadata": {},
   "outputs": [],
   "source": [
    "varianzeB.append(np.std(array16))\n",
    "varianzeB_pulite.append(np.std(no_outliers_16))"
   ]
  },
  {
   "cell_type": "markdown",
   "metadata": {},
   "source": [
    "### Dati per corrente $I_{LDAC} = 18 \\mu A$ "
   ]
  },
  {
   "cell_type": "code",
   "execution_count": 48,
   "metadata": {},
   "outputs": [
    {
     "name": "stdout",
     "output_type": "stream",
     "text": [
      "Selected files:\n",
      "C:/Users/andre/Documents/CMSAFE/CMSAFE_calibs/calib_I_LDAC_18_0_soglia_1000_elettroni.txt\n"
     ]
    }
   ],
   "source": [
    "button18 = selectFiles() #è possibile selezionare più files"
   ]
  },
  {
   "cell_type": "code",
   "execution_count": 49,
   "metadata": {},
   "outputs": [
    {
     "name": "stdout",
     "output_type": "stream",
     "text": [
      "1 dataframe crated!\n"
     ]
    }
   ],
   "source": [
    "data18 = parseCalibs(button18.files) #ad ogni file è associato un dataframe               "
   ]
  },
  {
   "cell_type": "code",
   "execution_count": 50,
   "metadata": {},
   "outputs": [
    {
     "data": {
      "image/png": "[encoded data removed]",
      "text/plain": [
       "<Figure size 432x288 with 1 Axes>"
      ]
     },
     "metadata": {
      "needs_background": "light"
     },
     "output_type": "display_data"
    }
   ],
   "source": [
    "array18 = plotHist(data18, 'B')"
   ]
  },
  {
   "cell_type": "code",
   "execution_count": 64,
   "metadata": {},
   "outputs": [],
   "source": [
    "varianzeB.append(np.std(array18))\n",
    "varianzeB_pulite.append(np.std(array18))"
   ]
  },
  {
   "cell_type": "markdown",
   "metadata": {},
   "source": [
    "### Dati per corrente $I_{LDAC} = 20 \\mu A$ "
   ]
  },
  {
   "cell_type": "code",
   "execution_count": 51,
   "metadata": {},
   "outputs": [
    {
     "name": "stdout",
     "output_type": "stream",
     "text": [
      "Selected files:\n",
      "C:/Users/andre/Documents/CMSAFE/CMSAFE_calibs/calib_I_LDAC_20_0_soglia_1000_elettroni.txt\n"
     ]
    }
   ],
   "source": [
    "button20 = selectFiles() #è possibile selezionare più files"
   ]
  },
  {
   "cell_type": "code",
   "execution_count": 52,
   "metadata": {},
   "outputs": [
    {
     "name": "stdout",
     "output_type": "stream",
     "text": [
      "1 dataframe crated!\n"
     ]
    }
   ],
   "source": [
    "data20 = parseCalibs(button20.files) #ad ogni file è associato un dataframe               "
   ]
  },
  {
   "cell_type": "code",
   "execution_count": 53,
   "metadata": {},
   "outputs": [
    {
     "data": {
      "image/png": "[encoded data removed]",
      "text/plain": [
       "<Figure size 432x288 with 1 Axes>"
      ]
     },
     "metadata": {
      "needs_background": "light"
     },
     "output_type": "display_data"
    }
   ],
   "source": [
    "array20 = plotHist(data20, 'B')"
   ]
  },
  {
   "cell_type": "code",
   "execution_count": 55,
   "metadata": {},
   "outputs": [
    {
     "data": {
      "image/png": "[encoded data removed]",
      "text/plain": [
       "<Figure size 432x288 with 1 Axes>"
      ]
     },
     "metadata": {
      "needs_background": "light"
     },
     "output_type": "display_data"
    }
   ],
   "source": [
    "array_x=array20\n",
    "no_outliers_20 = array_x[abs(array_x - np.mean(array_x)) < 2*np.std(array_x)]\n",
    "plotNoOutliers(no_outliers_20)\n"
   ]
  },
  {
   "cell_type": "code",
   "execution_count": 65,
   "metadata": {},
   "outputs": [],
   "source": [
    "varianzeB.append(np.std(array20))\n",
    "varianzeB_pulite.append(np.std(no_outliers_20))"
   ]
  },
  {
   "cell_type": "markdown",
   "metadata": {},
   "source": [
    "## Plot Dispersioni di soglia (senza outliers) in funzione di $I_{LDAC}$"
   ]
  },
  {
   "cell_type": "code",
   "execution_count": 66,
   "metadata": {},
   "outputs": [],
   "source": [
    "correnti = [8.0, 10.0, 12.0, 13.0, 14.0, 16.0, 18.0, 20.0]"
   ]
  },
  {
   "cell_type": "code",
   "execution_count": 67,
   "metadata": {},
   "outputs": [
    {
     "data": {
      "image/png": "[encoded data removed]",
      "text/plain": [
       "<Figure size 1080x288 with 1 Axes>"
      ]
     },
     "metadata": {
      "needs_background": "light"
     },
     "output_type": "display_data"
    }
   ],
   "source": [
    "fig, ax = plt.subplots(figsize = (15,4))\n",
    "\n",
    "fig.suptitle(\"Andamento dispersione di soglia in funzione di $I_{LDAC}$ - RD53B\", fontsize=16)\n",
    "ax.set_ylabel(\"Dispersione di soglia (dev std)\")\n",
    "ax.set_xlabel(\"Corrente $I_{LDAC}  (\\mu A)$\")\n",
    "\n",
    "ax.plot(correnti, varianzeB, '-o', color = 'coral', label=\"Dirty\")\n",
    "ax.plot(correnti, varianzeB_pulite, '-o', color = 'blue', label=\"No outliers\")\n",
    "\n",
    "\n",
    "ax.legend(loc=\"upper right\")\n",
    "\n",
    "#plt.xticks(np.arange(8, 20, 0.5))\n",
    "#plt.savefig('disp.png', bbox_inches='tight')\n",
    "plt.show()"
   ]
  }
 ],
 "metadata": {
  "kernelspec": {
   "display_name": "Python 3",
   "language": "python",
   "name": "python3"
  },
  "language_info": {
   "codemirror_mode": {
    "name": "ipython",
    "version": 3
   },
   "file_extension": ".py",
   "mimetype": "text/x-python",
   "name": "python",
   "nbconvert_exporter": "python",
   "pygments_lexer": "ipython3",
   "version": "3.8.5"
  }
 },
 "nbformat": 4,
 "nbformat_minor": 5
}
