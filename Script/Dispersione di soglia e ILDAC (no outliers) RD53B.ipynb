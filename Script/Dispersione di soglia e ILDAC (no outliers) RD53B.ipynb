{
 "cells": [
  {
   "cell_type": "markdown",
   "metadata": {},
   "source": [
    "# In questo script recupero informazioni relative alla dispersione di soglia dei FE RD53A e RD53B e ne elimino gli outliers\n",
    "\n",
    "Devo prendere i valori al 50% dello scan di soglia e calcolare la varianza della loro distribuzione. Infine, plottare l'andamento delle dispersioni di soglia delle misurazioni fatte in funzione della corrente $I_{LDAC}$, cercando di eliminare l'effetto di eventuali outliers."
   ]
  },
  {
   "cell_type": "code",
   "execution_count": 1,
   "metadata": {},
   "outputs": [],
   "source": [
    "import numpy as np\n",
    "import matplotlib.pyplot as plt"
   ]
  },
  {
   "cell_type": "code",
   "execution_count": 2,
   "metadata": {},
   "outputs": [],
   "source": [
    "%run ./Functions/selectFiles.ipynb #gestisce button e schermata di dialogo con il file system\n",
    "%run ./Functions/parseCalibs.ipynb #parsing dei file txt. input: path[]; output: dataframe[]"
   ]
  },
  {
   "cell_type": "code",
   "execution_count": 3,
   "metadata": {},
   "outputs": [],
   "source": [
    "def plotHist(dataframe, tipo): #plot istogramma distribuzione delle soglie filtrate per tipo di FE. Ritorna lista di soglie\n",
    "    C = dataframe[0][0]\n",
    "    D = C.loc[C['Tipo'] == tipo]\n",
    "    E = np.asarray(D['Thresholds'].values.tolist())\n",
    "    plt.hist(E)\n",
    "    plt.show()\n",
    "    return E"
   ]
  },
  {
   "cell_type": "code",
   "execution_count": 62,
   "metadata": {},
   "outputs": [],
   "source": [
    "#inizializzo vettori che userò per plottare i grafici. Ad ogni passo aggiungo in coda la dev std\n",
    "varianzeB_pulite = []\n",
    "varianzeB = []"
   ]
  },
  {
   "cell_type": "code",
   "execution_count": 5,
   "metadata": {},
   "outputs": [
    {
     "name": "stdout",
     "output_type": "stream",
     "text": [
      "Selected files:\n",
      "C:/Users/andre/Documents/CMSAFE/CMSAFE_calibs/calib_I_LDAC_8_0_soglia_1000_elettroni.txt\n"
     ]
    }
   ],
   "source": [
    "button = selectFiles() #è possibile selezionare più files"
   ]
  },
  {
   "cell_type": "markdown",
   "metadata": {},
   "source": [
    "### Dati per corrente $I_{LDAC} = 8 \\mu A$ "
   ]
  },
  {
   "cell_type": "code",
   "execution_count": 6,
   "metadata": {},
   "outputs": [
    {
     "name": "stdout",
     "output_type": "stream",
     "text": [
      "1 dataframe crated!\n"
     ]
    }
   ],
   "source": [
    "data8 = parseCalibs(button.files) #ad ogni file è associato un dataframe               "
   ]
  },
  {
   "cell_type": "code",
   "execution_count": 7,
   "metadata": {},
   "outputs": [
    {
     "data": {
      "image/png": "[encoded data removed]",
      "text/plain": [
       "<Figure size 432x288 with 1 Axes>"
      ]
     },
     "metadata": {
      "needs_background": "light"
     },
     "output_type": "display_data"
    }
   ],
   "source": [
    "array8 = plotHist(data8, 'B')"
   ]
  },
  {
   "cell_type": "code",
   "execution_count": 9,
   "metadata": {},
   "outputs": [],
   "source": [
    "no_outliers_8 = array8[abs(array8 - np.mean(array8)) < 0.85*np.std(array8)] #Rimuovo gli outliers"
   ]
  },
  {
   "cell_type": "code",
   "execution_count": 10,
   "metadata": {},
   "outputs": [
    {
     "data": {
      "image/png": "[encoded data removed]",
      "text/plain": [
       "<Figure size 432x288 with 1 Axes>"
      ]
     },
     "metadata": {
      "needs_background": "light"
     },
     "output_type": "display_data"
    }
   ],
   "source": [
    "plt.hist(no_outliers_8)\n",
    "plt.show()"
   ]
  },
  {
   "cell_type": "code",
   "execution_count": 64,
   "metadata": {},
   "outputs": [],
   "source": [
    "varianzeB.append(np.std(array8))\n",
    "varianzeB_pulite.append(np.std(no_outliers_8))"
   ]
  },
  {
   "cell_type": "markdown",
   "metadata": {},
   "source": [
    "### Dati per corrente $I_{LDAC} = 10 \\mu A$ "
   ]
  },
  {
   "cell_type": "code",
   "execution_count": 13,
   "metadata": {},
   "outputs": [
    {
     "name": "stdout",
     "output_type": "stream",
     "text": [
      "Selected files:\n",
      "C:/Users/andre/Documents/CMSAFE/CMSAFE_calibs/calib_I_LDAC_10_0_soglia_1000_elettroni.txt\n"
     ]
    }
   ],
   "source": [
    "button10 = selectFiles() #è possibile selezionare più files"
   ]
  },
  {
   "cell_type": "code",
   "execution_count": 15,
   "metadata": {},
   "outputs": [
    {
     "name": "stdout",
     "output_type": "stream",
     "text": [
      "1 dataframe crated!\n"
     ]
    }
   ],
   "source": [
    "data10 = parseCalibs(button10.files) #ad ogni file è associato un dataframe               "
   ]
  },
  {
   "cell_type": "code",
   "execution_count": 17,
   "metadata": {},
   "outputs": [
    {
     "data": {
      "image/png": "[encoded data removed]",
      "text/plain": [
       "<Figure size 432x288 with 1 Axes>"
      ]
     },
     "metadata": {
      "needs_background": "light"
     },
     "output_type": "display_data"
    }
   ],
   "source": [
    "array10 = plotHist(data10, 'B')"
   ]
  },
  {
   "cell_type": "code",
   "execution_count": 65,
   "metadata": {},
   "outputs": [],
   "source": []
  },
  {
   "cell_type": "code",
   "execution_count": 19,
   "metadata": {},
   "outputs": [],
   "source": [
    "no_outliers_10 = array10[abs(array10 - np.mean(array10)) < 4*np.std(array10)]"
   ]
  },
  {
   "cell_type": "code",
   "execution_count": 20,
   "metadata": {},
   "outputs": [
    {
     "data": {
      "image/png": "[encoded data removed]",
      "text/plain": [
       "<Figure size 432x288 with 1 Axes>"
      ]
     },
     "metadata": {
      "needs_background": "light"
     },
     "output_type": "display_data"
    }
   ],
   "source": [
    "plt.hist(no_outliers_10)\n",
    "plt.show()"
   ]
  },
  {
   "cell_type": "code",
   "execution_count": 66,
   "metadata": {},
   "outputs": [],
   "source": [
    "varianzeB.append(np.std(array10))\n",
    "varianzeB_pulite.append(np.std(no_outliers_10))"
   ]
  },
  {
   "cell_type": "markdown",
   "metadata": {},
   "source": [
    "### Dati per corrente $I_{LDAC} = 12 \\mu A$ "
   ]
  },
  {
   "cell_type": "code",
   "execution_count": 22,
   "metadata": {},
   "outputs": [
    {
     "name": "stdout",
     "output_type": "stream",
     "text": [
      "Selected files:\n",
      "C:/Users/andre/Documents/CMSAFE/CMSAFE_calibs/calib_I_LDAC_12_0_soglia_1000_elettroni.txt\n"
     ]
    }
   ],
   "source": [
    "button12 = selectFiles() #è possibile selezionare più files"
   ]
  },
  {
   "cell_type": "code",
   "execution_count": 23,
   "metadata": {},
   "outputs": [
    {
     "name": "stdout",
     "output_type": "stream",
     "text": [
      "1 dataframe crated!\n"
     ]
    }
   ],
   "source": [
    "data12 = parseCalibs(button12.files) #ad ogni file è associato un dataframe               "
   ]
  },
  {
   "cell_type": "code",
   "execution_count": 24,
   "metadata": {},
   "outputs": [
    {
     "data": {
      "image/png": "[encoded data removed]",
      "text/plain": [
       "<Figure size 432x288 with 1 Axes>"
      ]
     },
     "metadata": {
      "needs_background": "light"
     },
     "output_type": "display_data"
    }
   ],
   "source": [
    "array12 = plotHist(data12, 'B')"
   ]
  },
  {
   "cell_type": "code",
   "execution_count": 68,
   "metadata": {},
   "outputs": [],
   "source": [
    "varianzeB.append(np.std(array12))\n",
    "varianzeB_pulite.append(np.std(array12))"
   ]
  },
  {
   "cell_type": "markdown",
   "metadata": {},
   "source": [
    "### Dati per corrente $I_{LDAC} = 13 \\mu A$ "
   ]
  },
  {
   "cell_type": "code",
   "execution_count": 27,
   "metadata": {},
   "outputs": [
    {
     "name": "stdout",
     "output_type": "stream",
     "text": [
      "Selected files:\n",
      "C:/Users/andre/Documents/CMSAFE/CMSAFE_calibs/calib_I_LDAC_13_0_soglia_1000_elettroni.txt\n"
     ]
    }
   ],
   "source": [
    "button13 = selectFiles() #è possibile selezionare più files"
   ]
  },
  {
   "cell_type": "code",
   "execution_count": 30,
   "metadata": {},
   "outputs": [
    {
     "name": "stdout",
     "output_type": "stream",
     "text": [
      "1 dataframe crated!\n"
     ]
    }
   ],
   "source": [
    "data13 = parseCalibs(button13.files) #ad ogni file è associato un dataframe               "
   ]
  },
  {
   "cell_type": "code",
   "execution_count": 31,
   "metadata": {},
   "outputs": [
    {
     "data": {
      "image/png": "[encoded data removed]",
      "text/plain": [
       "<Figure size 432x288 with 1 Axes>"
      ]
     },
     "metadata": {
      "needs_background": "light"
     },
     "output_type": "display_data"
    }
   ],
   "source": [
    "array13 = plotHist(data13, 'B')"
   ]
  },
  {
   "cell_type": "code",
   "execution_count": 32,
   "metadata": {},
   "outputs": [
    {
     "data": {
      "image/png": "[encoded data removed]",
      "text/plain": [
       "<Figure size 432x288 with 1 Axes>"
      ]
     },
     "metadata": {
      "needs_background": "light"
     },
     "output_type": "display_data"
    }
   ],
   "source": [
    "no_outliers_13 = array13[abs(array13 - np.mean(array13)) < 2*np.std(array13)]\n",
    "plt.hist(no_outliers_13)\n",
    "plt.show()"
   ]
  },
  {
   "cell_type": "code",
   "execution_count": 69,
   "metadata": {},
   "outputs": [],
   "source": [
    "varianzeB.append(np.std(array13))\n",
    "varianzeB_pulite.append(np.std(no_outliers_13))"
   ]
  },
  {
   "cell_type": "markdown",
   "metadata": {},
   "source": [
    "### Dati per corrente $I_{LDAC} = 14 \\mu A$ "
   ]
  },
  {
   "cell_type": "code",
   "execution_count": 34,
   "metadata": {},
   "outputs": [
    {
     "name": "stdout",
     "output_type": "stream",
     "text": [
      "Selected files:\n",
      "C:/Users/andre/Documents/CMSAFE/CMSAFE_calibs/calib_I_LDAC_14_0_soglia_1000_elettroni.txt\n"
     ]
    }
   ],
   "source": [
    "button14 = selectFiles() #è possibile selezionare più files"
   ]
  },
  {
   "cell_type": "code",
   "execution_count": 35,
   "metadata": {},
   "outputs": [
    {
     "name": "stdout",
     "output_type": "stream",
     "text": [
      "1 dataframe crated!\n"
     ]
    }
   ],
   "source": [
    "data14 = parseCalibs(button14.files) #ad ogni file è associato un dataframe               "
   ]
  },
  {
   "cell_type": "code",
   "execution_count": 36,
   "metadata": {},
   "outputs": [
    {
     "data": {
      "image/png": "[encoded data removed]",
      "text/plain": [
       "<Figure size 432x288 with 1 Axes>"
      ]
     },
     "metadata": {
      "needs_background": "light"
     },
     "output_type": "display_data"
    }
   ],
   "source": [
    "array14 = plotHist(data14, 'B')"
   ]
  },
  {
   "cell_type": "code",
   "execution_count": 37,
   "metadata": {},
   "outputs": [
    {
     "data": {
      "image/png": "[encoded data removed]",
      "text/plain": [
       "<Figure size 432x288 with 1 Axes>"
      ]
     },
     "metadata": {
      "needs_background": "light"
     },
     "output_type": "display_data"
    }
   ],
   "source": [
    "array_x=array14\n",
    "no_outliers_14 = array_x[abs(array_x - np.mean(array_x)) < 2*np.std(array_x)]\n",
    "plt.hist(no_outliers_14)\n",
    "plt.show()"
   ]
  },
  {
   "cell_type": "code",
   "execution_count": 70,
   "metadata": {},
   "outputs": [],
   "source": [
    "varianzeB.append(np.std(array14))\n",
    "varianzeB_pulite.append(np.std(no_outliers_14))"
   ]
  },
  {
   "cell_type": "markdown",
   "metadata": {},
   "source": [
    "### Dati per corrente $I_{LDAC} = 16 \\mu A$ "
   ]
  },
  {
   "cell_type": "code",
   "execution_count": 39,
   "metadata": {},
   "outputs": [
    {
     "name": "stdout",
     "output_type": "stream",
     "text": [
      "Selected files:\n",
      "C:/Users/andre/Documents/CMSAFE/CMSAFE_calibs/calib_I_LDAC_16_0_soglia_1000_elettroni.txt\n"
     ]
    }
   ],
   "source": [
    "button16 = selectFiles() #è possibile selezionare più files"
   ]
  },
  {
   "cell_type": "code",
   "execution_count": 40,
   "metadata": {},
   "outputs": [
    {
     "name": "stdout",
     "output_type": "stream",
     "text": [
      "1 dataframe crated!\n"
     ]
    }
   ],
   "source": [
    "data16 = parseCalibs(button16.files) #ad ogni file è associato un dataframe               "
   ]
  },
  {
   "cell_type": "code",
   "execution_count": 41,
   "metadata": {},
   "outputs": [
    {
     "data": {
      "image/png": "[encoded data removed]",
      "text/plain": [
       "<Figure size 432x288 with 1 Axes>"
      ]
     },
     "metadata": {
      "needs_background": "light"
     },
     "output_type": "display_data"
    }
   ],
   "source": [
    "array16 = plotHist(data16, 'B')"
   ]
  },
  {
   "cell_type": "code",
   "execution_count": 42,
   "metadata": {},
   "outputs": [
    {
     "data": {
      "image/png": "[encoded data removed]",
      "text/plain": [
       "<Figure size 432x288 with 1 Axes>"
      ]
     },
     "metadata": {
      "needs_background": "light"
     },
     "output_type": "display_data"
    }
   ],
   "source": [
    "array_x=array16\n",
    "no_outliers_16 = array_x[abs(array_x - np.mean(array_x)) < 2*np.std(array_x)]\n",
    "plt.hist(no_outliers_16)\n",
    "plt.show()"
   ]
  },
  {
   "cell_type": "code",
   "execution_count": 71,
   "metadata": {},
   "outputs": [],
   "source": [
    "varianzeB.append(np.std(array16))\n",
    "varianzeB_pulite.append(np.std(no_outliers_16))"
   ]
  },
  {
   "cell_type": "markdown",
   "metadata": {},
   "source": [
    "### Dati per corrente $I_{LDAC} = 18 \\mu A$ "
   ]
  },
  {
   "cell_type": "code",
   "execution_count": 46,
   "metadata": {},
   "outputs": [
    {
     "name": "stdout",
     "output_type": "stream",
     "text": [
      "Selected files:\n",
      "C:/Users/andre/Documents/CMSAFE/CMSAFE_calibs/calib_I_LDAC_18_0_soglia_1000_elettroni.txt\n"
     ]
    }
   ],
   "source": [
    "button18 = selectFiles() #è possibile selezionare più files"
   ]
  },
  {
   "cell_type": "code",
   "execution_count": 47,
   "metadata": {},
   "outputs": [
    {
     "name": "stdout",
     "output_type": "stream",
     "text": [
      "1 dataframe crated!\n"
     ]
    }
   ],
   "source": [
    "data18 = parseCalibs(button18.files) #ad ogni file è associato un dataframe               "
   ]
  },
  {
   "cell_type": "code",
   "execution_count": 48,
   "metadata": {},
   "outputs": [
    {
     "data": {
      "image/png": "[encoded data removed]",
      "text/plain": [
       "<Figure size 432x288 with 1 Axes>"
      ]
     },
     "metadata": {
      "needs_background": "light"
     },
     "output_type": "display_data"
    }
   ],
   "source": [
    "array18 = plotHist(data18, 'B')"
   ]
  },
  {
   "cell_type": "code",
   "execution_count": 72,
   "metadata": {},
   "outputs": [],
   "source": [
    "varianzeB.append(np.std(array18))\n",
    "varianzeB_pulite.append(np.std(array18))"
   ]
  },
  {
   "cell_type": "markdown",
   "metadata": {},
   "source": [
    "### Dati per corrente $I_{LDAC} = 20 \\mu A$ "
   ]
  },
  {
   "cell_type": "code",
   "execution_count": 50,
   "metadata": {},
   "outputs": [
    {
     "name": "stdout",
     "output_type": "stream",
     "text": [
      "Selected files:\n",
      "C:/Users/andre/Documents/CMSAFE/CMSAFE_calibs/calib_I_LDAC_20_0_soglia_1000_elettroni.txt\n"
     ]
    }
   ],
   "source": [
    "button20 = selectFiles() #è possibile selezionare più files"
   ]
  },
  {
   "cell_type": "code",
   "execution_count": 51,
   "metadata": {},
   "outputs": [
    {
     "name": "stdout",
     "output_type": "stream",
     "text": [
      "1 dataframe crated!\n"
     ]
    }
   ],
   "source": [
    "data20 = parseCalibs(button20.files) #ad ogni file è associato un dataframe               "
   ]
  },
  {
   "cell_type": "code",
   "execution_count": 52,
   "metadata": {},
   "outputs": [
    {
     "data": {
      "image/png": "[encoded data removed]",
      "text/plain": [
       "<Figure size 432x288 with 1 Axes>"
      ]
     },
     "metadata": {
      "needs_background": "light"
     },
     "output_type": "display_data"
    }
   ],
   "source": [
    "array20 = plotHist(data20, 'B')"
   ]
  },
  {
   "cell_type": "code",
   "execution_count": 53,
   "metadata": {},
   "outputs": [
    {
     "data": {
      "image/png": "[encoded data removed]",
      "text/plain": [
       "<Figure size 432x288 with 1 Axes>"
      ]
     },
     "metadata": {
      "needs_background": "light"
     },
     "output_type": "display_data"
    }
   ],
   "source": [
    "array_x=array20\n",
    "no_outliers_20 = array_x[abs(array_x - np.mean(array_x)) < 2*np.std(array_x)]\n",
    "plt.hist(no_outliers_20)\n",
    "plt.show()"
   ]
  },
  {
   "cell_type": "code",
   "execution_count": 73,
   "metadata": {},
   "outputs": [],
   "source": [
    "varianzeB.append(np.std(array20))\n",
    "varianzeB_pulite.append(np.std(no_outliers_20))"
   ]
  },
  {
   "cell_type": "markdown",
   "metadata": {},
   "source": [
    "## Plot Dispersioni di soglia (senza outliers) in funzione di $I_{LDAC}$"
   ]
  },
  {
   "cell_type": "code",
   "execution_count": 79,
   "metadata": {},
   "outputs": [],
   "source": [
    "correnti = [8.0, 10.0, 12.0, 13.0, 14.0, 16.0, 18.0, 20.0]"
   ]
  },
  {
   "cell_type": "code",
   "execution_count": 82,
   "metadata": {},
   "outputs": [
    {
     "data": {
      "image/png": "[encoded data removed]",
      "text/plain": [
       "<Figure size 1080x288 with 1 Axes>"
      ]
     },
     "metadata": {
      "needs_background": "light"
     },
     "output_type": "display_data"
    }
   ],
   "source": [
    "fig, ax = plt.subplots(figsize = (15,4))\n",
    "\n",
    "fig.suptitle(\"Andamento dispersione di soglia (senza outliers) in funzione di $I_{LDAC}$ - RD53B\", fontsize=16)\n",
    "ax.set_ylabel(\"Dispersione di soglia (dev std)\")\n",
    "ax.set_xlabel(\"Corrente $I_{LDAC}  (\\mu A)$\")\n",
    "\n",
    "ax.plot(correnti, varianzeB, '-o', color = 'coral', label=\"Dirty\")\n",
    "ax.plot(correnti, varianzeB_pulite, '-o', color = 'blue', label=\"No outliers\")\n",
    "\n",
    "\n",
    "ax.legend(loc=\"upper right\")\n",
    "\n",
    "#plt.xticks(np.arange(8, 20, 0.5))\n",
    "#plt.savefig('disp.png', bbox_inches='tight')\n",
    "plt.show()"
   ]
  }
 ],
 "metadata": {
  "kernelspec": {
   "display_name": "Python 3",
   "language": "python",
   "name": "python3"
  },
  "language_info": {
   "codemirror_mode": {
    "name": "ipython",
    "version": 3
   },
   "file_extension": ".py",
   "mimetype": "text/x-python",
   "name": "python",
   "nbconvert_exporter": "python",
   "pygments_lexer": "ipython3",
   "version": "3.8.5"
  }
 },
 "nbformat": 4,
 "nbformat_minor": 5
}
