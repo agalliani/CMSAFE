{
 "cells": [
  {
   "cell_type": "markdown",
   "metadata": {},
   "source": [
    "# HEATMAP"
   ]
  },
  {
   "cell_type": "markdown",
   "metadata": {},
   "source": [
    "potresti provare per favore a fare:\n",
    "- la somma totale dei conteggi per A e B\n",
    "- la somma totale dei conteggi escludendo i pixel con count>36 (tenendo traccia di quanti pixel sono così mascherati)\n",
    "- la somma totale di conteggi escludendo i pixel con count >360"
   ]
  },
  {
   "cell_type": "code",
   "execution_count": 1,
   "metadata": {},
   "outputs": [
    {
     "name": "stdout",
     "output_type": "stream",
     "text": [
      "Selected files:\n",
      "D:/test preamp 50 CD 100/noise_A_PREAMP_50_CD_100_LDAC_14_soglia_590.txt\n",
      "D:/test preamp 50 CD 100/noise_A_PREAMP_50_CD_100_LDAC_14_soglia_950.txt\n",
      "D:/test preamp 50 CD 100/noise_A_PREAMP_50_CD_100_LDAC_14_soglia_1000.txt\n",
      "D:/test preamp 50 CD 100/noise_A_PREAMP_50_CD_100_LDAC_14_soglia_1200.txt\n",
      "D:/test preamp 50 CD 100/noise_A_PREAMP_50_CD_100_LDAC_14_soglia_1500.txt\n",
      "D:/test preamp 50 CD 100/noise_B_PREAMP_50_CD_100_LDAC_14_soglia_590.txt\n",
      "D:/test preamp 50 CD 100/noise_B_PREAMP_50_CD_100_LDAC_14_soglia_950.txt\n",
      "D:/test preamp 50 CD 100/noise_B_PREAMP_50_CD_100_LDAC_14_soglia_1000.txt\n",
      "D:/test preamp 50 CD 100/noise_B_PREAMP_50_CD_100_LDAC_14_soglia_1200.txt\n",
      "D:/test preamp 50 CD 100/noise_B_PREAMP_50_CD_100_LDAC_14_soglia_1500.txt\n"
     ]
    }
   ],
   "source": [
    "import matplotlib.pyplot as plt\n",
    "import matplotlib.patches as mpatches\n",
    "import numpy as np\n",
    "import pandas as pd\n",
    "import matplotlib.patches as mpatches\n",
    "from matplotlib.colors import LogNorm, Normalize\n",
    "\n",
    "import seaborn as sns; sns.set_theme()\n",
    "\n",
    "\n",
    "%run ./Functions/selectFiles.ipynb #gestisce button e schermata di dialogo con il file system\n",
    "%run ./Functions/parseCalibs.ipynb #parsing dei file txt. input: path[]; output: dataframe[]\n",
    "button = selectFiles() #è possibile selezionare più files"
   ]
  },
  {
   "cell_type": "code",
   "execution_count": 2,
   "metadata": {},
   "outputs": [],
   "source": [
    "paths = button.files"
   ]
  },
  {
   "cell_type": "code",
   "execution_count": 3,
   "metadata": {},
   "outputs": [],
   "source": [
    "def getHits(file):\n",
    "    channels = []\n",
    "    counts = []\n",
    "    with open (file, 'rt') as myfile:\n",
    "        lines = myfile.readlines()\n",
    "        for i in range(0, len(lines)):    \n",
    "            line = lines[i].split()\n",
    "            if(line[0].isdigit()):\n",
    "                channels.append(int(line[0]))\n",
    "                counts.append(int(line[1]))\n",
    "    #a = pd.DataFrame(list(zip(channels, counts)), columns = ['Channel', \"Counts\"]) \n",
    "    return counts"
   ]
  },
  {
   "cell_type": "code",
   "execution_count": 4,
   "metadata": {},
   "outputs": [],
   "source": [
    "def calcolaCose(vettore, start,end, maxx):\n",
    "    Sum = 0\n",
    "    count = 0\n",
    "    minor = []\n",
    "    for x in vettore[start:end]:\n",
    "        if(x<maxx):\n",
    "            minor.append(x)\n",
    "            Sum += x\n",
    "        else:\n",
    "            count+=1\n",
    "    return count, Sum, minor\n"
   ]
  },
  {
   "cell_type": "code",
   "execution_count": 5,
   "metadata": {},
   "outputs": [],
   "source": [
    "def printStats(fileA, fileB):\n",
    "    counts_A = getHits(fileA)\n",
    "    counts_B = getHits(fileB)\n",
    "\n",
    "    countA36, sumA36, minorA36 = calcolaCose(counts_A,16,128, 36)\n",
    "    countA360, sumA360, minorA360 = calcolaCose(counts_A, 16,128, 360)\n",
    "    countB36, sumB36, minorB36 = calcolaCose(counts_B,128,240, 36)\n",
    "    countB360, sumB360, minorB360 = calcolaCose(counts_B,128,240, 360)\n",
    "\n",
    "    \n",
    "    model = os.path.basename(fileA[-7:-4])\n",
    "    \n",
    "    print(\"SOGLIA: \"+model +\"\\n\")\n",
    "    print(\"A:\")\n",
    "    print(\"Tot hits --> \"+str(sum(counts_A[16:128])))\n",
    "    print(\"Mean --> \"+str(round(np.mean(counts_A[16:128]), 2)))    \n",
    "    print(\"Hits < 36 --> \" +str(sumA36) + \", mean: \" + str(round(np.mean(minorA36), 2)) + \", excluding \"+ str(countA36)+ \" pixels\")\n",
    "    print(\"Hits < 360 --> \" +str(sumA360) + \", mean: \" + str(round(np.mean(minorA360), 2)) + \", excluding \"+ str(countA360)+ \" pixels\")\n",
    "\n",
    "   \n",
    "    \n",
    "    print(\"B:\")\n",
    "    print(\"Tot hits --> \"+ str(sum(counts_B[128:240])))\n",
    "    print(\"Mean -->\"+str(round(np.mean(counts_B[128:240]),2)))\n",
    "    print(\"Hits < 36 --> \" +str(sumB36) + \", mean: \" + str(round(np.mean(minorB36), 2)) + \", excluding \"+ str(countB36)+ \" pixels\")\n",
    "    print(\"Hits < 360 --> \" +str(sumB360) + \", mean: \" + str(round(np.mean(minorB360), 2)) + \", excluding \"+ str(countB360)+ \" pixels\")\n",
    "\n",
    "    print(\"\\n-------------------------------------------\\n\")    \n"
   ]
  },
  {
   "cell_type": "code",
   "execution_count": 6,
   "metadata": {},
   "outputs": [],
   "source": [
    "def plotHeatmap(fileA, fileB):\n",
    "    \n",
    "    counts_A = getHits(fileA)\n",
    "    counts_B = getHits(fileB)\n",
    "\n",
    "   \n",
    "   \n",
    "    \n",
    "    noise_A = [counts_A[x:x+7] for x in range(16, 128, 7)]\n",
    "    noise_B = [counts_B[x:x+7] for x in range(128, 240, 7)]\n",
    "    \n",
    "    \n",
    "    model = os.path.basename(fileA[-8:-4])\n",
    "\n",
    "    fig, (ax1, ax2) = plt.subplots(ncols=2, sharey='row', figsize = (11, 11))\n",
    "    fig.subplots_adjust(wspace=0.01)\n",
    "    \n",
    "    sns.heatmap(noise_A, ax = ax1, annot = True, fmt=\"d\" , vmin=0,vmax = 36, xticklabels=False, yticklabels=False, square=True, cbar = False, cmap = \"jet\") #cmap=\"BuPu\"\n",
    "    fig.colorbar(ax1.collections[0],  ax=ax1, location = \"left\", use_gridspec=False, pad=0)\n",
    "\n",
    "    sns.heatmap(noise_B, ax = ax2,annot = True, fmt=\"d\", vmin=0, vmax = 36, xticklabels=False, yticklabels=False, square=True, cbar = False, cmap = \"jet\") #cmap=\"BuPu\"\n",
    "    fig.colorbar(ax2.collections[0], ax=ax2, location = \"right\", use_gridspec=False, pad=0)\n",
    "\n",
    "    ax1.set_xlabel(\"RD53A\")\n",
    "    ax2.set_xlabel(\"RD53B\")\n",
    "\n",
    "    fig.suptitle('Noise Occupancy with threshold = '+ model + \" electrons\",fontsize=20, y = 0.92)\n",
    "    \n",
    "    plt.savefig('Heatmap noise soglia '+model+' I_PREAMP=70uA', bbox_inches='tight')\n",
    "\n",
    "    plt.show()\n"
   ]
  },
  {
   "cell_type": "code",
   "execution_count": 9,
   "metadata": {
    "scrolled": false
   },
   "outputs": [
    {
     "name": "stdout",
     "output_type": "stream",
     "text": [
      "SOGLIA: 590\n",
      "\n",
      "A:\n",
      "Tot hits --> 66171\n",
      "Mean --> 590.81\n",
      "Hits < 36 --> 235, mean: 13.06, excluding 94 pixels\n",
      "Hits < 360 --> 4046, mean: 91.95, excluding 68 pixels\n",
      "B:\n",
      "Tot hits --> 97630\n",
      "Mean -->871.7\n",
      "Hits < 36 --> 28, mean: 28.0, excluding 111 pixels\n",
      "Hits < 360 --> 1210, mean: 151.25, excluding 104 pixels\n",
      "\n",
      "-------------------------------------------\n",
      "\n",
      "SOGLIA: 950\n",
      "\n",
      "A:\n",
      "Tot hits --> 1449\n",
      "Mean --> 12.94\n",
      "Hits < 36 --> 41, mean: 0.38, excluding 4 pixels\n",
      "Hits < 360 --> 652, mean: 5.87, excluding 1 pixels\n",
      "B:\n",
      "Tot hits --> 9747\n",
      "Mean -->87.03\n",
      "Hits < 36 --> 718, mean: 10.88, excluding 46 pixels\n",
      "Hits < 360 --> 4296, mean: 40.91, excluding 7 pixels\n",
      "\n",
      "-------------------------------------------\n",
      "\n",
      "SOGLIA: 000\n",
      "\n",
      "A:\n",
      "Tot hits --> 583\n",
      "Mean --> 5.21\n",
      "Hits < 36 --> 18, mean: 0.17, excluding 3 pixels\n",
      "Hits < 360 --> 583, mean: 5.21, excluding 0 pixels\n",
      "B:\n",
      "Tot hits --> 3529\n",
      "Mean -->31.51\n",
      "Hits < 36 --> 467, mean: 4.67, excluding 12 pixels\n",
      "Hits < 360 --> 1317, mean: 12.19, excluding 4 pixels\n",
      "\n",
      "-------------------------------------------\n",
      "\n",
      "SOGLIA: 200\n",
      "\n",
      "A:\n",
      "Tot hits --> 25\n",
      "Mean --> 0.22\n",
      "Hits < 36 --> 25, mean: 0.22, excluding 0 pixels\n",
      "Hits < 360 --> 25, mean: 0.22, excluding 0 pixels\n",
      "B:\n",
      "Tot hits --> 1036\n",
      "Mean -->9.25\n",
      "Hits < 36 --> 37, mean: 0.34, excluding 2 pixels\n",
      "Hits < 360 --> 145, mean: 1.31, excluding 1 pixels\n",
      "\n",
      "-------------------------------------------\n",
      "\n",
      "SOGLIA: 500\n",
      "\n",
      "A:\n",
      "Tot hits --> 0\n",
      "Mean --> 0.0\n",
      "Hits < 36 --> 0, mean: 0.0, excluding 0 pixels\n",
      "Hits < 360 --> 0, mean: 0.0, excluding 0 pixels\n",
      "B:\n",
      "Tot hits --> 351\n",
      "Mean -->3.13\n",
      "Hits < 36 --> 0, mean: 0.0, excluding 1 pixels\n",
      "Hits < 360 --> 351, mean: 3.13, excluding 0 pixels\n",
      "\n",
      "-------------------------------------------\n",
      "\n"
     ]
    }
   ],
   "source": [
    "for i in range(0,5):\n",
    "    #plotHeatmap(paths[i], paths[i+5])\n",
    "    printStats(paths[i], paths[i+5])"
   ]
  },
  {
   "cell_type": "code",
   "execution_count": null,
   "metadata": {},
   "outputs": [],
   "source": []
  }
 ],
 "metadata": {
  "kernelspec": {
   "display_name": "Python 3",
   "language": "python",
   "name": "python3"
  },
  "language_info": {
   "codemirror_mode": {
    "name": "ipython",
    "version": 3
   },
   "file_extension": ".py",
   "mimetype": "text/x-python",
   "name": "python",
   "nbconvert_exporter": "python",
   "pygments_lexer": "ipython3",
   "version": "3.8.5"
  }
 },
 "nbformat": 4,
 "nbformat_minor": 4
}
