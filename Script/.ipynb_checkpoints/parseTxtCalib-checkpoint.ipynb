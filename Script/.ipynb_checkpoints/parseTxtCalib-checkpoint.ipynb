{
 "cells": [
  {
   "cell_type": "markdown",
   "metadata": {},
   "source": [
    "### Funzione per il parsing del file i testo generato dal SW di calibrazione della soglia\n",
    "Riceve in input il nome del file da elaborare e ritorna un oggetto di tipo Dataframe contenente i dati estrapolati dal file di testo."
   ]
  },
  {
   "cell_type": "code",
   "execution_count": null,
   "metadata": {},
   "outputs": [],
   "source": [
    "def parseTxtCalib(filename):\n",
    "    channels = []\n",
    "    means = []\n",
    "    sigmas = []\n",
    "    types = []\n",
    "    lst = []\n",
    "    \n",
    "    with open ('../CMSAFE_calibs/'+filename+'.txt', 'rt') as myfile:\n",
    "    \n",
    "        lines = myfile.readlines()\n",
    "        \n",
    "        for i in range(0, len(lines)):\n",
    "        \n",
    "        #se la riga contiene la parola 'CHANNEL' significa che siamo nel caso:\n",
    "        # channel   1 mean 10.30 sigma 0.97\n",
    "            if (\"channel \") in lines[i]:\n",
    "                lst=[]\n",
    "                \n",
    "                #se la media è NaN allora non considero il dato e passo al prossimo pixel\n",
    "                #(siamo nel caso di pixel esclusi dalla calibrazione)\n",
    "                if lines[i].split()[3] != 'NaN':\n",
    "                    #salvo il numero del CANALE\n",
    "                    channels.append(float(lines[i].split()[1]))\n",
    "                   \n",
    "                    #salvo la MEDIA\n",
    "                    means.append(int(float(lines[i].split()[3])))\n",
    "                    \n",
    "                    #salvo le VARIANZE del singolo pixel \n",
    "                    sigmas.append(lines[i].split()[5])\n",
    "                    \n",
    "                    #stabilisco il TIPO di FE: se non ho i valori dei bit 17-31, allora è RD53B\n",
    "                    if lines[i+17].split()[1] == 'NaN':\n",
    "                        types.append('A')\n",
    "                    else:\n",
    "                        types.append('B')\n",
    "                \n",
    "                    #devo salvare i singoli campioni da cui sono state ricavate media e varianza\n",
    "                    #TO DO\n",
    "                    points = []\n",
    "                    for j in range(1,32):\n",
    "                        points.append(lines[i+j].split())\n",
    "                    lst.append(points)\n",
    "                else:\n",
    "                    channels.append(np.nan)\n",
    "                    means.append(np.nan)\n",
    "                    sigmas.append(np.nan)\n",
    "                    types.append(np.nan)\n",
    "                        \n",
    "                \n",
    "            #per il momento processo solo i dati relativi ai Trimming DAC\n",
    "            #nel file txt dalla riga successiva a questa ci sono dati che al momento non mi interessa elaborare\n",
    "            if (\"x data 9\") in lines[i]: break\n",
    "    #creo un oggetto di tipo DataFrame\n",
    "    return pd.DataFrame(list(zip(channels, types, means, sigmas)), columns = ['Channel', 'Tipo','Mean','Sigma'])"
   ]
  }
 ],
 "metadata": {
  "kernelspec": {
   "display_name": "Python 3",
   "language": "python",
   "name": "python3"
  },
  "language_info": {
   "codemirror_mode": {
    "name": "ipython",
    "version": 3
   },
   "file_extension": ".py",
   "mimetype": "text/x-python",
   "name": "python",
   "nbconvert_exporter": "python",
   "pygments_lexer": "ipython3",
   "version": "3.8.5"
  }
 },
 "nbformat": 4,
 "nbformat_minor": 4
}
