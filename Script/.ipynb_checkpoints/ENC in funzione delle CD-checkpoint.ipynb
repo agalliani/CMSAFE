{
 "cells": [
  {
   "cell_type": "markdown",
   "metadata": {},
   "source": [
    "### Studio del comportamento del ENC in funzione delle capacità $C_D$ con soglia ~1000e e $I_{LDAC}$ ~ $14 \\mu A$"
   ]
  },
  {
   "cell_type": "code",
   "execution_count": 1,
   "metadata": {},
   "outputs": [],
   "source": [
    "import matplotlib.pyplot as plt\n",
    "import matplotlib.patches as mpatches\n",
    "import numpy as np"
   ]
  },
  {
   "cell_type": "code",
   "execution_count": 2,
   "metadata": {},
   "outputs": [],
   "source": [
    "%run ./Functions/selectFiles.ipynb #gestisce button e schermata di dialogo con il file system\n",
    "%run ./Functions/parseCalibs.ipynb #parsing dei file txt. input: path[]; output: dataframe[]"
   ]
  },
  {
   "cell_type": "code",
   "execution_count": 3,
   "metadata": {},
   "outputs": [
    {
     "name": "stdout",
     "output_type": "stream",
     "text": [
      "Selected files:\n",
      "C:/Users/andre/Documents/CMSAFE/CMSAFE_calibs/test capacit/calib_CD_0_I_LDAC_14_0_soglia_1000_elettroni.txt\n",
      "C:/Users/andre/Documents/CMSAFE/CMSAFE_calibs/test capacit/calib_CD_50_I_LDAC_14_0_soglia_1000_elettroni.txt\n",
      "C:/Users/andre/Documents/CMSAFE/CMSAFE_calibs/test capacit/calib_CD_100_I_LDAC_14_0_soglia_1000_elettroni.txt\n",
      "C:/Users/andre/Documents/CMSAFE/CMSAFE_calibs/test capacit/calib_CD_150_I_LDAC_14_0_soglia_1000_elettroni.txt\n"
     ]
    }
   ],
   "source": [
    "button = selectFiles() #è possibile selezionare più files"
   ]
  },
  {
   "cell_type": "code",
   "execution_count": 4,
   "metadata": {},
   "outputs": [
    {
     "name": "stdout",
     "output_type": "stream",
     "text": [
      "4 dataframe crated!\n"
     ]
    }
   ],
   "source": [
    "data = parseCalibs(button.files) #estrapolo i dati dei file di configurazione"
   ]
  },
  {
   "cell_type": "code",
   "execution_count": 5,
   "metadata": {},
   "outputs": [],
   "source": [
    "capac = [0.0, 50.0, 100.0, 150.0]"
   ]
  },
  {
   "cell_type": "code",
   "execution_count": 6,
   "metadata": {},
   "outputs": [],
   "source": [
    "def getErrorFunctionSigma(dataframe, tipo):\n",
    "    data = []    \n",
    "    for i in dataframe:\n",
    "        filtered_type = i[0].loc[(i[0]['Tipo'] == tipo) & (i[0]['Channel'] != 67.0) & (i[0]['Channel'] != 100.0)] ###attenzione!!\n",
    "        sigmas = filtered_type['ErrFunSigma'].values.tolist()\n",
    "        data.append(sigmas)\n",
    "    return data"
   ]
  },
  {
   "cell_type": "code",
   "execution_count": 7,
   "metadata": {},
   "outputs": [],
   "source": [
    "sigmasA = getErrorFunctionSigma(data, \"A\")\n",
    "sigmasB = getErrorFunctionSigma(data, \"B\")"
   ]
  },
  {
   "cell_type": "code",
   "execution_count": 8,
   "metadata": {},
   "outputs": [],
   "source": [
    "ENC_B = []\n",
    "for i in sigmasB:\n",
    "    ENC_B.append(np.mean(np.asarray(i)))"
   ]
  },
  {
   "cell_type": "code",
   "execution_count": 9,
   "metadata": {},
   "outputs": [
    {
     "data": {
      "text/plain": [
       "[1.2375000000000003, 1.582142857142857, 2.135267857142857, 2.6947321428571427]"
      ]
     },
     "execution_count": 9,
     "metadata": {},
     "output_type": "execute_result"
    }
   ],
   "source": [
    "ENC_B"
   ]
  },
  {
   "cell_type": "code",
   "execution_count": 10,
   "metadata": {},
   "outputs": [],
   "source": [
    "ENC_A = []\n",
    "for i in sigmasA:\n",
    "    ENC_A.append(np.mean(np.asarray(i)))"
   ]
  },
  {
   "cell_type": "code",
   "execution_count": 11,
   "metadata": {},
   "outputs": [
    {
     "data": {
      "text/plain": [
       "[1.3188799999999998,\n",
       " 1.5629600000000003,\n",
       " 2.1181599999999996,\n",
       " 2.5838400000000004]"
      ]
     },
     "execution_count": 11,
     "metadata": {},
     "output_type": "execute_result"
    }
   ],
   "source": [
    "ENC_A"
   ]
  },
  {
   "cell_type": "code",
   "execution_count": 12,
   "metadata": {},
   "outputs": [
    {
     "data": {
      "image/png": "[encoded data removed]",
      "text/plain": [
       "<Figure size 720x288 with 1 Axes>"
      ]
     },
     "metadata": {
      "needs_background": "light"
     },
     "output_type": "display_data"
    }
   ],
   "source": [
    "fig, ax = plt.subplots(1,1, figsize=(10,4))\n",
    "\n",
    "ax.plot(capac, ENC_A, '-o', color =\"blue\")\n",
    "ax.plot(capac, ENC_B, '-o', color = \"red\")\n",
    "ax.set_xlabel(\"Capacitance in fF\")\n",
    "ax.set_ylabel(\"Equivalent Noise Charge\")\n",
    "\n",
    "fig.suptitle(\"ENC in funzione della capacità $C_D$\", fontsize=16)\n",
    "plt.show()\n",
    "\n",
    "   "
   ]
  },
  {
   "cell_type": "code",
   "execution_count": 13,
   "metadata": {},
   "outputs": [
    {
     "name": "stdout",
     "output_type": "stream",
     "text": [
      "DataFrame is written to Excel File pippo/export/calib_CD_0_I_LDAC_14_0_soglia_1000_elettroni successfully.\n",
      "DataFrame is written to Excel File pippo/export/calib_CD_50_I_LDAC_14_0_soglia_1000_elettroni successfully.\n",
      "DataFrame is written to Excel File pippo/export/calib_CD_100_I_LDAC_14_0_soglia_1000_elettroni successfully.\n",
      "DataFrame is written to Excel File pippo/export/calib_CD_150_I_LDAC_14_0_soglia_1000_elettroni successfully.\n"
     ]
    }
   ],
   "source": [
    "import pandas as pd\n",
    "import os\n",
    "\n",
    "destination_folder = \"pippo/export\"\n",
    "if not os.path.exists(destination_folder):\n",
    "    os.makedirs(destination_folder)\n",
    "\n",
    "for i in data:\n",
    "    # determining the name of the file\n",
    "    file_name = destination_folder+\"/\"+i[1]\n",
    "  \n",
    "    # saving the excel\n",
    "    i[0].to_excel(file_name + '.xlsx')\n",
    "    print('DataFrame is written to Excel File ' + file_name+ ' successfully.')"
   ]
  },
  {
   "cell_type": "code",
   "execution_count": null,
   "metadata": {},
   "outputs": [],
   "source": []
  }
 ],
 "metadata": {
  "kernelspec": {
   "display_name": "Python 3",
   "language": "python",
   "name": "python3"
  },
  "language_info": {
   "codemirror_mode": {
    "name": "ipython",
    "version": 3
   },
   "file_extension": ".py",
   "mimetype": "text/x-python",
   "name": "python",
   "nbconvert_exporter": "python",
   "pygments_lexer": "ipython3",
   "version": "3.8.5"
  }
 },
 "nbformat": 4,
 "nbformat_minor": 4
}
