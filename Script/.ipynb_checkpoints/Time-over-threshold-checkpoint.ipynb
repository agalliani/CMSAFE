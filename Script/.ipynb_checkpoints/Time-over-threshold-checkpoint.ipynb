{
 "cells": [
  {
   "cell_type": "code",
   "execution_count": 1,
   "metadata": {},
   "outputs": [],
   "source": [
    "import pandas as pd\n",
    "import numpy as np\n",
    "import math\n",
    "import matplotlib.pyplot as plt\n",
    "\n",
    "%run ./Functions/selectFiles.ipynb #gestisce button e schermata di dialogo con il file system"
   ]
  },
  {
   "cell_type": "code",
   "execution_count": 2,
   "metadata": {},
   "outputs": [],
   "source": [
    "def parseTxtChargeScan(file):\n",
    "    channel = []\n",
    "    tot_m = []\n",
    "    tot_s = []\n",
    "    \n",
    "    num_points = 0\n",
    "    points = []\n",
    "\n",
    "    with open(file, 'rt') as myfile:\n",
    "        lines = myfile.readlines()\n",
    "    \n",
    "        for i in range(0, len(lines)): \n",
    "\n",
    "            if(\"x points\") in lines[i]:\n",
    "                \n",
    "                num_points = int(lines[i].split()[2])\n",
    "                for j in range(1,num_points+1):\n",
    "                    points.append(float(lines[i+j].split()[0]))\n",
    "              \n",
    "                \n",
    "            if(\"eff_data\") in lines[i]:\n",
    "                channel.append(int(lines[i].split()[1]))\n",
    "            \n",
    "                medie = []\n",
    "                sigmas = []\n",
    "                for j in range(1,num_points+1):\n",
    "                    if(lines[i+j].split()[5] == \"NaN\" or lines[i+j].split()[6] == \"NaN\"):\n",
    "                        medie.append(np.NAN)\n",
    "                        sigmas.append(np.NAN)\n",
    "                    else:\n",
    "                        medie.append(float(lines[i+j].split()[5]))\n",
    "                        sigmas.append(float(lines[i+j].split()[6]))\n",
    "\n",
    "                tot_m.append(medie)    \n",
    "                tot_s.append(sigmas)\n",
    "    return pd.DataFrame(list(zip(channel, tot_m, tot_s)), columns = [\"Channel\", \"tot_m\", \"tot_s\"]), points \n",
    "    "
   ]
  },
  {
   "cell_type": "code",
   "execution_count": 3,
   "metadata": {},
   "outputs": [],
   "source": [
    "def filterAB(dataframe):\n",
    "    dataA = dataframe.loc[(dataframe['Channel'] >= 1) & (dataframe['Channel']<=127)] \n",
    "    dataB = dataframe.loc[(dataframe['Channel'] >= 128) & (dataframe['Channel']<=239)]\n",
    "    return dataA, dataB"
   ]
  },
  {
   "cell_type": "code",
   "execution_count": 4,
   "metadata": {},
   "outputs": [],
   "source": [
    "def calcolaMedie(data):\n",
    "    tot = data['tot_m'].values.tolist()\n",
    "    \n",
    "    D = pd.DataFrame(tot)\n",
    "\n",
    "    means = []\n",
    "    for i in range(0, len(D.columns)):\n",
    "        colonna = D.iloc[:,i].tolist()\n",
    "        totale_nan_per_colonna = D.iloc[:,i].isna().sum() \n",
    "        if(totale_nan_per_colonna>= len(D)/2):\n",
    "            means.append(np.nan)\n",
    "        else:\n",
    "            means.append(round(np.nanmean(colonna),3))\n",
    "    return means\n",
    "    "
   ]
  },
  {
   "cell_type": "code",
   "execution_count": null,
   "metadata": {},
   "outputs": [],
   "source": [
    "def plotToT(x, dataA, dataB, soglia):\n",
    "    fig, ax = plt.subplots(figsize = (14, 8))\n",
    "    fig.suptitle(\"Time-over-threshold medio, soglia \"+ soglia + \" elettroni\")\n",
    "    \n",
    "    tot_medio_A = calcolaMedie(dataA)\n",
    "    tot_medio_B = calcolaMedie(dataB)\n",
    "    \n",
    "    ax.plot(x, tot_medio_A , color = \"blue\")\n",
    "    ax.plot(x, tot_medio_B, color = \"red\")\n",
    "    \n",
    "    a = np.arange(0,45+1,10).tolist()\n",
    "    b = np.arange(60, int(max(points))+20, 20).tolist()\n",
    "    \n",
    "    for x in b:\n",
    "        a.append(x)\n",
    "    \n",
    "    ax.set_xticks(a)\n",
    "    \n",
    "    ax.set_xlabel(\"Delta CalHI (mV)\")\n",
    "    ax.set_ylabel(\"Time-over-threshold (ns)\")\n",
    "\n",
    "    plt.show()    \n",
    "\n",
    "    "
   ]
  },
  {
   "cell_type": "code",
   "execution_count": 5,
   "metadata": {},
   "outputs": [
    {
     "name": "stdout",
     "output_type": "stream",
     "text": [
      "Selected files:\n",
      "C:/Users/andre/Documents/CMSAFE/CMSAFE_calibs/test time walk e ToT/ChargeScan_PREAMP_30_CD_100_LDAC_14_soglia_1500.txt\n"
     ]
    }
   ],
   "source": [
    "button = selectFiles() #è possibile selezionare più files"
   ]
  },
  {
   "cell_type": "code",
   "execution_count": 6,
   "metadata": {
    "scrolled": false
   },
   "outputs": [
    {
     "data": {
      "text/plain": [
       "[<matplotlib.lines.Line2D at 0x217c9e8b790>]"
      ]
     },
     "execution_count": 6,
     "metadata": {},
     "output_type": "execute_result"
    },
    {
     "data": {
      "image/png": "[encoded data removed]",
      "text/plain": [
       "<Figure size 432x288 with 1 Axes>"
      ]
     },
     "metadata": {
      "needs_background": "light"
     },
     "output_type": "display_data"
    }
   ],
   "source": [
    "data, points = parseTxtChargeScan(button.files[0])\n",
    "dataA, dataB = filterAB(data)\n",
    "medie=calcolaMedie(dataA)\n",
    "plt.plot(points,medie)"
   ]
  },
  {
   "cell_type": "code",
   "execution_count": null,
   "metadata": {},
   "outputs": [],
   "source": []
  }
 ],
 "metadata": {
  "kernelspec": {
   "display_name": "Python 3",
   "language": "python",
   "name": "python3"
  },
  "language_info": {
   "codemirror_mode": {
    "name": "ipython",
    "version": 3
   },
   "file_extension": ".py",
   "mimetype": "text/x-python",
   "name": "python",
   "nbconvert_exporter": "python",
   "pygments_lexer": "ipython3",
   "version": "3.8.5"
  }
 },
 "nbformat": 4,
 "nbformat_minor": 4
}
