{
 "cells": [
  {
   "cell_type": "markdown",
   "metadata": {},
   "source": [
    "### Studio del comportamento della dispersione di soglia in funzione delle capacità $C_D$ con soglia ~1000e e $I_{LDAC}$ ~ $14 \\mu A$"
   ]
  },
  {
   "cell_type": "code",
   "execution_count": 1,
   "metadata": {},
   "outputs": [],
   "source": [
    "import matplotlib.pyplot as plt\n",
    "import matplotlib.patches as mpatches\n",
    "import numpy as np\n",
    "import matplotlib.patches as mpatches"
   ]
  },
  {
   "cell_type": "code",
   "execution_count": 2,
   "metadata": {},
   "outputs": [],
   "source": [
    "%run ./Functions/selectFiles.ipynb #gestisce button e schermata di dialogo con il file system\n",
    "%run ./Functions/parseCalibs.ipynb #parsing dei file txt. input: path[]; output: dataframe[]"
   ]
  },
  {
   "cell_type": "code",
   "execution_count": 3,
   "metadata": {},
   "outputs": [
    {
     "name": "stdout",
     "output_type": "stream",
     "text": [
      "Selected files:\n",
      "C:/Users/andre/Documents/CMSAFE/CMSAFE_calibs/test capacit/calib_CD_0_I_LDAC_14_0_soglia_1000_elettroni.txt\n",
      "C:/Users/andre/Documents/CMSAFE/CMSAFE_calibs/test capacit/calib_CD_50_I_LDAC_14_0_soglia_1000_elettroni.txt\n",
      "C:/Users/andre/Documents/CMSAFE/CMSAFE_calibs/test capacit/calib_CD_100_I_LDAC_14_0_soglia_1000_elettroni.txt\n",
      "C:/Users/andre/Documents/CMSAFE/CMSAFE_calibs/test capacit/calib_CD_150_I_LDAC_14_0_soglia_1000_elettroni.txt\n"
     ]
    }
   ],
   "source": [
    "button = selectFiles() #è possibile selezionare più files"
   ]
  },
  {
   "cell_type": "code",
   "execution_count": 4,
   "metadata": {},
   "outputs": [
    {
     "name": "stdout",
     "output_type": "stream",
     "text": [
      "4 dataframe crated!\n"
     ]
    }
   ],
   "source": [
    "data = parseCalibs(button.files) #estrapolo i dati dei file di configurazione"
   ]
  },
  {
   "cell_type": "code",
   "execution_count": 5,
   "metadata": {},
   "outputs": [],
   "source": [
    "capac = [0.0, 50.0, 100.0, 150.0]"
   ]
  },
  {
   "cell_type": "code",
   "execution_count": 6,
   "metadata": {},
   "outputs": [],
   "source": [
    "def getElectronsTh(dataframe, tipo):\n",
    "    deltas = []\n",
    "    for i in dataframe:\n",
    "        filtered_type = i[0].loc[(i[0]['Tipo'] == tipo) & (i[0]['Channel'] != 67.0)] ###attenzione!!\n",
    "        thresholds = filtered_type['Thresholds'].values.tolist()\n",
    "        #calcola deltaCALHI, converte in elettroni e arrotonda alla seconda cifra decimale\n",
    "        deltaCALHI = [round(50*(x - 500.0), 2) for x in thresholds]\n",
    "        deltas.append(deltaCALHI)\n",
    "    return deltas"
   ]
  },
  {
   "cell_type": "code",
   "execution_count": 7,
   "metadata": {},
   "outputs": [],
   "source": [
    "deltasA = getElectronsTh(data, \"A\")\n",
    "deltasB = getElectronsTh(data, \"B\")"
   ]
  },
  {
   "cell_type": "code",
   "execution_count": 8,
   "metadata": {},
   "outputs": [],
   "source": [
    "devA = [np.std(x) for x in deltasA] #calcolo deviazioni standard\n",
    "devB = [np.std(x) for x in deltasB]"
   ]
  },
  {
   "cell_type": "code",
   "execution_count": 9,
   "metadata": {},
   "outputs": [
    {
     "data": {
      "text/plain": [
       "[43.126988691133185, 48.65343492791343, 67.76259727399186, 79.7556674494034]"
      ]
     },
     "execution_count": 9,
     "metadata": {},
     "output_type": "execute_result"
    }
   ],
   "source": [
    "devA"
   ]
  },
  {
   "cell_type": "code",
   "execution_count": 10,
   "metadata": {},
   "outputs": [
    {
     "data": {
      "text/plain": [
       "[27.30143372868139, 30.767048741556383, 39.123100951499545, 50.46565353488258]"
      ]
     },
     "execution_count": 10,
     "metadata": {},
     "output_type": "execute_result"
    }
   ],
   "source": [
    "devB"
   ]
  },
  {
   "cell_type": "code",
   "execution_count": 11,
   "metadata": {},
   "outputs": [
    {
     "data": {
      "image/png": "[encoded data removed]",
      "text/plain": [
       "<Figure size 720x288 with 1 Axes>"
      ]
     },
     "metadata": {
      "needs_background": "light"
     },
     "output_type": "display_data"
    }
   ],
   "source": [
    "fig, ax = plt.subplots(1,1, figsize=(10,4))\n",
    "\n",
    "ax.plot(capac, devA, '-o', color =\"blue\")\n",
    "ax.plot(capac, devB, '-o', color = \"red\")\n",
    "ax.set_xlabel(\"Capacitance in fF\")\n",
    "ax.set_ylabel(\"Dispersione di soglia (elettroni)\")\n",
    "\n",
    "blue_patch = mpatches.Patch(color='blue', label=\"RD53A\")\n",
    "red_patch = mpatches.Patch(color='red', label=\"RD53B\")\n",
    "\n",
    "ax.legend(loc=\"lower right\", handles=[blue_patch, red_patch])\n",
    "\n",
    "for i, txt in enumerate(devA):        \n",
    "    ax.annotate(round(txt,2), #text\n",
    "                (capac[i], devA[i]), #point\n",
    "               textcoords = \"offset points\", #positioning\n",
    "               xytext= (0,-12), #txt distance from the point\n",
    "               ha='center') #horizontal alignment\n",
    "    \n",
    "\n",
    "for i, txt in enumerate(devB):  \n",
    "    ax.annotate(round(txt,2), #text\n",
    "                (capac[i], devB[i]), #point\n",
    "               textcoords = \"offset points\", #positioning\n",
    "               xytext= (0,8), #txt distance from the point\n",
    "               ha='center') #horizontal alignment\n",
    "\n",
    "\n",
    "fig.suptitle(\"Dispersione di soglia in funzione della capacità $C_D$\", fontsize=16)\n",
    "plt.show()\n",
    "\n",
    "   "
   ]
  },
  {
   "cell_type": "code",
   "execution_count": null,
   "metadata": {},
   "outputs": [],
   "source": []
  }
 ],
 "metadata": {
  "kernelspec": {
   "display_name": "Python 3",
   "language": "python",
   "name": "python3"
  },
  "language_info": {
   "codemirror_mode": {
    "name": "ipython",
    "version": 3
   },
   "file_extension": ".py",
   "mimetype": "text/x-python",
   "name": "python",
   "nbconvert_exporter": "python",
   "pygments_lexer": "ipython3",
   "version": "3.8.5"
  }
 },
 "nbformat": 4,
 "nbformat_minor": 4
}
