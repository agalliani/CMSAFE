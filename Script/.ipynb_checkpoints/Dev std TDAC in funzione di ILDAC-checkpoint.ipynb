{
 "cells": [
  {
   "cell_type": "markdown",
   "metadata": {},
   "source": [
    "# In questo script plotto l'andamento della deviazione standard della distribuzione dei Trimming DAC dei FE RD53A e RD53B in funzione della corrente $I_{LDAC}$"
   ]
  },
  {
   "cell_type": "markdown",
   "metadata": {},
   "source": [
    "Inizializzo le funzioni che ho scritto nei notebooks salvati nella sottocartella Functions"
   ]
  },
  {
   "cell_type": "code",
   "execution_count": 1,
   "metadata": {},
   "outputs": [],
   "source": [
    "%run ./Functions/parseCalibs.ipynb #parsing dei file txt. input: path[]; output: dataframe[]\n",
    "%run ./Functions/selectFiles.ipynb #gestisce button e schermata di dialogo con il file system"
   ]
  },
  {
   "cell_type": "markdown",
   "metadata": {},
   "source": [
    "### Seleziono i file di calibrazione"
   ]
  },
  {
   "cell_type": "code",
   "execution_count": 2,
   "metadata": {
    "scrolled": true
   },
   "outputs": [
    {
     "name": "stdout",
     "output_type": "stream",
     "text": [
      "Selected files:\n",
      "C:/Users/andre/Documents/CMSAFE/CMSAFE_calibs/calib_I_LDAC_8_0_soglia_1000_elettroni.txt\n",
      "C:/Users/andre/Documents/CMSAFE/CMSAFE_calibs/calib_I_LDAC_10_0_soglia_1000_elettroni.txt\n",
      "C:/Users/andre/Documents/CMSAFE/CMSAFE_calibs/calib_I_LDAC_12_0_soglia_1000_elettroni.txt\n",
      "C:/Users/andre/Documents/CMSAFE/CMSAFE_calibs/calib_I_LDAC_13_0_soglia_1000_elettroni.txt\n",
      "C:/Users/andre/Documents/CMSAFE/CMSAFE_calibs/calib_I_LDAC_14_0_soglia_1000_elettroni.txt\n",
      "C:/Users/andre/Documents/CMSAFE/CMSAFE_calibs/calib_I_LDAC_16_0_soglia_1000_elettroni.txt\n",
      "C:/Users/andre/Documents/CMSAFE/CMSAFE_calibs/calib_I_LDAC_18_0_soglia_1000_elettroni.txt\n",
      "C:/Users/andre/Documents/CMSAFE/CMSAFE_calibs/calib_I_LDAC_20_0_soglia_1000_elettroni.txt\n"
     ]
    }
   ],
   "source": [
    "button = selectFiles() #è possibile selezionare più files"
   ]
  },
  {
   "cell_type": "code",
   "execution_count": 3,
   "metadata": {},
   "outputs": [
    {
     "name": "stdout",
     "output_type": "stream",
     "text": [
      "8 dataframe crated!\n"
     ]
    }
   ],
   "source": [
    "data = parseCalibs(button.files) #ad ogni file è associato un dataframe.\n",
    "#Viene tornata una lista che contiene un vettore di due elementi [[dataframe][nome], ... ]"
   ]
  },
  {
   "cell_type": "markdown",
   "metadata": {},
   "source": [
    "Vettore delle correnti $I_{LDAC}$: Se aggiungi o togli correnti, ricorda di importare (o non considerare) i file di calibrazione ad essa relativi"
   ]
  },
  {
   "cell_type": "code",
   "execution_count": 4,
   "metadata": {},
   "outputs": [],
   "source": [
    "correnti = [8.0, 10.0, 12.0, 13.0, 14.0, 16.0, 18.0, 20.0]"
   ]
  },
  {
   "cell_type": "markdown",
   "metadata": {},
   "source": [
    "Funzione per calcolare la varianza della dispersione di soglia dato un dataframe"
   ]
  },
  {
   "cell_type": "code",
   "execution_count": 5,
   "metadata": {},
   "outputs": [],
   "source": [
    "def getDevStd(df):   \n",
    "    #filtro i dati per tipo e seleziono solo la colonna relativa alla media\n",
    "    \n",
    "    \n",
    "    #Distribuzione di medie delle soglie per il DAC del RD53A\n",
    "    A = df.loc[df['Tipo']== 'A']\n",
    "    A_data = A['Mean']\n",
    "\n",
    "    #Distribuzione di medie delle soglie per il DAC del RD53B\n",
    "    B = df.loc[df['Tipo']== 'B']\n",
    "    B_data = B['Mean']\n",
    "        \n",
    "    #calcolo deviazione standard delle due distribuzioni\n",
    "    A_sigma = np.sqrt(A_data.var())\n",
    "    B_sigma = np.sqrt(B_data.var())\n",
    "    \n",
    "        \n",
    "    return A_sigma, B_sigma\n",
    "   "
   ]
  },
  {
   "cell_type": "code",
   "execution_count": 9,
   "metadata": {},
   "outputs": [],
   "source": [
    "dev_A = []\n",
    "dev_B = []\n",
    "for i in range(len(data)):\n",
    "    a, b = getDevStd(data[i][0])\n",
    "    dev_A.append(a)\n",
    "    dev_B.append(b)\n"
   ]
  },
  {
   "cell_type": "code",
   "execution_count": 23,
   "metadata": {},
   "outputs": [
    {
     "data": {
      "image/png": "[encoded data removed]",
      "text/plain": [
       "<Figure size 1080x288 with 1 Axes>"
      ]
     },
     "metadata": {
      "needs_background": "light"
     },
     "output_type": "display_data"
    }
   ],
   "source": [
    "import matplotlib.pyplot as plt\n",
    "\n",
    "fig, ax = plt.subplots(figsize= (15,4))\n",
    "\n",
    "fig.suptitle(\"Andamento dispersione in funzione di $I_{LDAC}$ \", fontsize=16)\n",
    "ax.set_ylabel(\"Dev std \")\n",
    "ax.set_xlabel(\"Corrente $I_{LDAC}$\")\n",
    "\n",
    "ax.plot(correnti, dev_B, '-o', color = 'coral', label=\"RD53B\")\n",
    "ax.plot(correnti, dev_A, '-o',color = 'blue', label=\"RD53A\")\n",
    "ax.legend(loc=\"upper right\")\n",
    "\n",
    "#plt.xticks(np.arange(8, 20, 0.5))\n",
    "plt.savefig('disp.png', bbox_inches='tight')\n",
    "plt.show()\n",
    "\n",
    "\n"
   ]
  }
 ],
 "metadata": {
  "kernelspec": {
   "display_name": "Python 3",
   "language": "python",
   "name": "python3"
  },
  "language_info": {
   "codemirror_mode": {
    "name": "ipython",
    "version": 3
   },
   "file_extension": ".py",
   "mimetype": "text/x-python",
   "name": "python",
   "nbconvert_exporter": "python",
   "pygments_lexer": "ipython3",
   "version": "3.8.5"
  }
 },
 "nbformat": 4,
 "nbformat_minor": 5
}
